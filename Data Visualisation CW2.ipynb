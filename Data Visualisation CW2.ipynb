{
 "cells": [
  {
   "cell_type": "markdown",
   "id": "e40134e7",
   "metadata": {},
   "source": [
    "# Data Visualisation Coursework 2\n",
    "### March 2023"
   ]
  },
  {
   "cell_type": "markdown",
   "id": "cf908fea",
   "metadata": {},
   "source": [
    "## 1. Introduction\n",
    "\n",
    "The COVID-19 pandemic needs no introduction. Beyond the millions of deaths worldwide, the pandemic has had far-reaching secondary effects. The pandemic is now considered not only a health crisis, but also a social and economic crisis. The repercussions of which, have yet to be fully explored and understood. \n",
    "\n",
    "In early 2020 until mid 2021 most parts of the United States were subject to shelter-in-place orders by local government. The result of which on physical health has not been widely studied quantitatively but the cultural and societal shift has been obvious. \n",
    "\n",
    "The pandemic has caused disruptions in daily routines, including changes in work, school, and exercise patterns. Many people have been working from home and spending more time indoors, leading to more sedentary behavior and less physical activity. Additionally, the pandemic has caused an increase in stress and anxiety levels, which can lead to overeating and unhealthy food choices.\n",
    "\n",
    "According to a study published in the Journal of the American Medical Association (JAMA) in March 2021 (Source: https://www.cdc.gov/nchs/products/databriefs/db360.htm), the prevalence of obesity in the United States increased from 42.4% in 2017-2018 to 44.9% in 2019-2020. The study suggests that the COVID-19 pandemic may have contributed to this increase in obesity rates.\n",
    "\n",
    "Furthermore, the pandemic has disproportionately affected certain populations, including those with lower incomes, who are more likely to have limited access to healthy foods and safe places to exercise. These disparities can exacerbate existing health inequities related to obesity. The COVID-19 pandemic has had a significant impact on obesity rates in the United States, highlighting the importance of maintaining healthy habits, even during times of stress and uncertainty.\n",
    "\n",
    "**The goal of this project is to learn about how the COVID-19 pandemic and its associated lockdowns and cultural/social shifts have affected the physical health of average Americans.** From the data we gather ourselves, as well as data provided by the *Centers for Disease Control and Prevention* (CDC) we will attempt to learn more about how Americans have a whole have been affected by the COVID-19 pandemic and which groups of Americans have been most affected. "
   ]
  },
  {
   "cell_type": "markdown",
   "id": "505bf416",
   "metadata": {},
   "source": [
    "## 2. Research  topic\n",
    "\n",
    "The United States currently has a population of roughly 332.4 million. With such a large population and the standard 95% confidence level and 5% margin of area, a calculated ideal sample of 385 individuals should be used. However, even though a sample size of 385 is relatively small when compared to the population of 332.4 million, it is still beyond what is feasible for this report. We will do our best to work around this issue and find a method of sampling that can expand our sample size. \n",
    "\n",
    "\n",
    "In our efforts to quantify exactly how the COVID-19 pandemic has affected the average American we attempt to answer the following more specific questions:\n",
    "\n",
    "1. Has the pandemic and its associated lockdowns increased or decreased the average American’s daily physical activity, if at all. E.g. Average minutes of physical activity per day\n",
    "2. Has the pandemic and its associated lockdowns increased or decreased the health of the average American, if at all. E.g. Obesity statistics\n",
    "3. How has the pandemic and its associated lockdowns affected Americans by state. \n",
    "4. How has the pandemic and its associated lockdowns affected Americans by demographic. E.g. gender/race/socioeconomic strata\n",
    "\n",
    "To help answer the larger question of how the COVID-19 pandemic has affected the US population we've identified a number of different features through which we can stratify the US population into groups. \n",
    "\n",
    "**Age**\n",
    "\n",
    "One way to stratify the population would be to look at different age groups, such as children, adolescents, and adults. From a logical perspective the pandemic would likely have affected these groups differently. Younger children and adolescents who are accustomed to an active lifestyle and who attend school with required physical exercise classes would probably be affected more than adults. Adults typically lead much more sedentary lifestyles than children so we would expect the pandemic to have had different effects on the two groups. \n",
    "\n",
    "In our survey questions we've chosen to break the ages of the respondents down into a series of age categories, instead of allowing the respondents to simply input their age. We've chosen to do this because we anticipate our small sample size may not allow us to perform meaningful analysis on the age categories. In addition, breaking the ages into categories allows us to view each category as a specific age group e.g. adolescents, middle-aged, senior etc, instead of individual points on a line graph. \n",
    "<br></br>\n",
    "\n",
    "**Gender** \n",
    "\n",
    "Another way to stratify the population would be to examine differences between males and females. This could help to identify any gender disparities in the impact of the pandemic on obesity rates. In the US, a higher percentage of men have historically met government exercise guidlines in pre-pandemic years (Source: https://time.com/5324940/americans-exercise-physical-activity-guidelines). It would be very interesting to see if these rates of meeting exercise guidelines improve or worsen at the same rate as women, or perhaps even move in the opposite direction. \n",
    "<br></br>\n",
    "\n",
    "**Race/Ethnicity** \n",
    "\n",
    "The United States has long been known as a 'nation of immigrants' because of its relatively youth as a country and its extensive history of immigration. While the complex history of immigration to the US and the social and economic ramifications they caused are beyond the scope of this project, we should still recognize that the US population today is not at all a homogenized society along racial and ethnic lines. Given the disproportionate impact of COVID-19 on certain racial and ethnic groups, it may be important to stratify the population by race and ethnicity to examine differences in the impact of the pandemic on obesity rates.\n",
    "<br></br>\n",
    "\n",
    "**Income and Education**\n",
    "\n",
    "Socioeconomic status is a known risk factor for obesity (Source: https://www.cdc.gov/obesity/data/prevalence-maps.html), so it may be important to stratify the population by income level. This could help to identify any disparities in the impact of the pandemic on obesity rates among different socioeconomic groups.\n",
    "<br></br>\n",
    "\n",
    "**Geographic Location**\n",
    "\n",
    "Another way to stratify the population would be to examine differences in the impact of the pandemic on obesity rates in different geographic locations. In an ideal situation we would be able to see the difference between urban vs. rural areas. However unfortunately our sample size would be far too small to get accurate results. Even if we obtained the full optimal sample size of 385 respondents, we would likely only have a few respondents per state which would not be nearly enough to represent the rural vs. urban environments per state. Consequently we've elected to only group respondents by state. Since US states are not equal in terms wealth and socioecomic makeup, we would expect the results for each state to be different as well.  \n",
    "\n",
    "Ultimately, the choice of stratification variables will depend on the research question and the specific hypotheses being tested. It is also important to ensure that the study sample is representative of the overall population to ensure the generalizability of the results."
   ]
  },
  {
   "cell_type": "markdown",
   "id": "e403bd7d",
   "metadata": {},
   "source": [
    "## 3. Data collection / Survey design\n",
    "\n",
    "### 3.1 Survey Design\n",
    "The survey that has been put together using JISC seeks to answer the four research questions outlined earlier. Although the survey questions do not map directly to the research questions, they do provide the necessary data to answer the questions. \n",
    "\n",
    "The survey begins with several anchoring questions. These are designed to identify key demographics about the respondent. With these questions we can ascertain the gender, age range, ethnicity, income level, and general geographic area. These anchoring questions allow us to stratify and segregate the respondents to draw conclusions on the health of the respondents based on the demographic data. \n",
    "\n",
    "The second page of the survey seeks to answer the main questions regarding physical health and physical activity. The first and second questions allow us to quantitatively know how much time the respondent spent on physical activity both before and after the pandemic. The third to sixth questions will allow us to approximate the physical health of the respondents both before and after the pandemic using a body mass index (BMI) calculation. Since BMI on its own is often insufficient to gauge overall health, the further information provided regarding age, gender and ethnicity of the respondent can be combined with BMI to paint a clearer picture of the respondent’s overall health. \n",
    "\n",
    "Combining the anchoring and main questions will allow us to answer the four research questions, as well as draw further conclusions regarding how the COVID-19 pandemic has affected specific areas, ethnicities or age groups in the United States. \n",
    "\n",
    "### 3.2 Survey Data Collection\n",
    "\n",
    "I realized early in the data collection process that simply sharing the JISC survey with fellow students would not get me even close to the 385 ideal sample size. Not only would I not be likely to get many respondents, I also run into the issue that the majority of students in the course are not located in the United States. I consequently turned to a different option for data collection. \n",
    "\n",
    "Amazon Mechanical Turk (MTurk) is an online platform created by Amazon that allows individuals and organizations to outsource small, discrete tasks to a large, global workforce of independent contractors. MTurk's unusual name comes from a fraudulent automaton of the same name that toured Europe during the late 18th century and was reputed to be an automated chess-playing machine. It was later discovered that the 'Mechanical Turk' was simply operated by a human chess master hidden within the machine. In essence, Amazon's Mechanical Turk service provides a similar service in our modern day; human labor and effort that is concealed behind a machine interface. MTurk allows a requester using their service to ask respondents to perform tasks such as data entry, content moderation, image recognition, transcribing, and more. However, what we are interested in, is its ability to ask people to answer surveys. \n",
    "\n",
    "I realized early in the data collection process that simply sharing the JISC survey with fellow students would not get me even close to the 385 ideal sample size. Not only would I not be likely to get many respondents, I also run into the issue that the majority of students in the course are not located in the United States. I consequently turned to a different option for data collection. \n",
    "\n",
    "Amazon Mechanical Turk (MTurk) is an online platform created by Amazon that allows individuals and organizations to outsource small, discrete tasks to a large, global workforce of independent contractors. MTurk's unusual name comes from a fraudulent automaton of the same name that toured Europe during the late 18th century and was reputed to be an automated chess-playing machine. It was later discovered that the 'Mechanical Turk' was simply operated by a human chess master hidden within the machine (Source: https://en.wikipedia.org/wiki/Mechanical_Turk). In essence, Amazon's Mechanical Turk service provides a similar service in our modern day; human labor and effort that is concealed behind a machine interface. MTurk allows a requester using their service to have respondents to perform tasks such as data entry, content moderation, image recognition, transcribing, and more. However, what we are interested in is its ability to ask people to answer surveys. \n",
    "\n",
    "MTurk is commonly used by companies to source “crowdworkers” to perform tasks that computers are unable to do. The service also allows requesters to add filters to the sort of workers that will respond to surveys. This allows us to obtain respondents that are only located within the United States which is perfect for answering our research question.  \n",
    "\n",
    "### 3.4 Alternative Data Sources\n",
    "\n",
    "During the course of this survey project we will attempt to gather as much meaningful data as possible using the JISC survey, however we will also be using a secondary data source alongside our survey data to help complete the picture and allow us to draw further conclusions. \n",
    "\n",
    "We have chosen to use data provided by a United States federal agency called the Centers for Disease Control and Prevention (CDC). The CDC has gained prominence in the US since the beginning of the pandemic for its extensive work in testing and halting the spread of the coronavirus epidemic. However, the agency is more traditionally associated with surveying public health. Consequently the agency records an abundance of public health statistics that can be used to paint a picture of the average American’s health before, during, and after the pandemic. \n",
    "\n",
    "As with almost all government collected public data, the CDC data is made available on its website (https://chronicdata.cdc.gov) public use. For the purposes of this survey we will be combining several data sets that survey public health that cover a variety of topics. These include such areas as obesity rates, average physical exercise, nutritional gain, as well as public policy information. \n",
    "\n",
    "The CDC has in the past been involved with some controversies regarding its handling of the initial stages of the COVID-19 pandemic, along with some very public clashes with then-president Trump. However, these controversies have never been associated with the quality and validity of its data. The CDC exists fundamentally as an apolitical entity and its collected data can be reasonably assumed to be free of bias and to be of good quality. \n"
   ]
  },
  {
   "cell_type": "markdown",
   "id": "dbe63e92",
   "metadata": {},
   "source": [
    "## 4. Data overview and pre-processing"
   ]
  },
  {
   "cell_type": "code",
   "execution_count": 1,
   "id": "e103967d",
   "metadata": {},
   "outputs": [],
   "source": [
    "# Import necessary packages for data processing and visualization\n",
    "\n",
    "import pandas as pd\n",
    "import numpy as np\n",
    "import seaborn as sns\n",
    "import matplotlib.pyplot as plt"
   ]
  },
  {
   "cell_type": "code",
   "execution_count": 2,
   "id": "bbdba955",
   "metadata": {},
   "outputs": [],
   "source": [
    "# Import the raw data\n",
    "\n",
    "data = pd.read_csv('Survey_data_original.csv', low_memory = False)"
   ]
  },
  {
   "cell_type": "code",
   "execution_count": 3,
   "id": "83d5ee09",
   "metadata": {},
   "outputs": [
    {
     "data": {
      "text/html": [
       "<div>\n",
       "<style scoped>\n",
       "    .dataframe tbody tr th:only-of-type {\n",
       "        vertical-align: middle;\n",
       "    }\n",
       "\n",
       "    .dataframe tbody tr th {\n",
       "        vertical-align: top;\n",
       "    }\n",
       "\n",
       "    .dataframe thead th {\n",
       "        text-align: right;\n",
       "    }\n",
       "</style>\n",
       "<table border=\"1\" class=\"dataframe\">\n",
       "  <thead>\n",
       "    <tr style=\"text-align: right;\">\n",
       "      <th></th>\n",
       "      <th>Timestamp</th>\n",
       "      <th>ID</th>\n",
       "      <th>Gender</th>\n",
       "      <th>Age</th>\n",
       "      <th>Ethnicity</th>\n",
       "      <th>Income</th>\n",
       "      <th>State</th>\n",
       "      <th>Exercise (Pre-Cov)</th>\n",
       "      <th>Exercise (Post-Cov)</th>\n",
       "      <th>Height (Pre-Cov)</th>\n",
       "      <th>Height (Post-Cov)</th>\n",
       "      <th>Weight (Pre-Cov)</th>\n",
       "      <th>Weight (Post-Cov)</th>\n",
       "    </tr>\n",
       "  </thead>\n",
       "  <tbody>\n",
       "    <tr>\n",
       "      <th>0</th>\n",
       "      <td>2/25/2023 15:09:29</td>\n",
       "      <td>TEST</td>\n",
       "      <td>Male</td>\n",
       "      <td>18-24 years old.</td>\n",
       "      <td>Asian</td>\n",
       "      <td>Less than $15,000</td>\n",
       "      <td>CA</td>\n",
       "      <td>Less than 15 min per day</td>\n",
       "      <td>Less than 15 min per day</td>\n",
       "      <td>67</td>\n",
       "      <td>67</td>\n",
       "      <td>140.0</td>\n",
       "      <td>170.0</td>\n",
       "    </tr>\n",
       "    <tr>\n",
       "      <th>1</th>\n",
       "      <td>3/14/2023 11:07:22</td>\n",
       "      <td>AV55CMG8KR1YH</td>\n",
       "      <td>Male</td>\n",
       "      <td>35-44 years old.</td>\n",
       "      <td>Non-Hispanic White</td>\n",
       "      <td>$35,000 - $49,999</td>\n",
       "      <td>NC</td>\n",
       "      <td>30min - 1 hr per day</td>\n",
       "      <td>30min - 1 hr per day</td>\n",
       "      <td>60</td>\n",
       "      <td>60</td>\n",
       "      <td>143.0</td>\n",
       "      <td>143.0</td>\n",
       "    </tr>\n",
       "    <tr>\n",
       "      <th>2</th>\n",
       "      <td>3/14/2023 11:08:01</td>\n",
       "      <td>A24GX1OZE6AY04</td>\n",
       "      <td>Male</td>\n",
       "      <td>35-44 years old.</td>\n",
       "      <td>Non-Hispanic White</td>\n",
       "      <td>Less than $15,000</td>\n",
       "      <td>OH</td>\n",
       "      <td>Less than 15 min per day</td>\n",
       "      <td>15 min - 30 min per day</td>\n",
       "      <td>72</td>\n",
       "      <td>72</td>\n",
       "      <td>195.0</td>\n",
       "      <td>195.0</td>\n",
       "    </tr>\n",
       "    <tr>\n",
       "      <th>3</th>\n",
       "      <td>3/14/2023 11:15:48</td>\n",
       "      <td>AZ737VU2O528H</td>\n",
       "      <td>Male</td>\n",
       "      <td>18-24 years old.</td>\n",
       "      <td>Non-Hispanic White</td>\n",
       "      <td>$25,000 - $34,999</td>\n",
       "      <td>AK</td>\n",
       "      <td>15 min - 30 min per day</td>\n",
       "      <td>30min - 1 hr per day</td>\n",
       "      <td>78</td>\n",
       "      <td>78</td>\n",
       "      <td>65.0</td>\n",
       "      <td>60.0</td>\n",
       "    </tr>\n",
       "    <tr>\n",
       "      <th>4</th>\n",
       "      <td>3/14/2023 11:43:11</td>\n",
       "      <td>A3UMSDXNUKMBWR</td>\n",
       "      <td>Female</td>\n",
       "      <td>25-34 years old.</td>\n",
       "      <td>Non-Hispanic White</td>\n",
       "      <td>$50,000 - $74,999</td>\n",
       "      <td>IN</td>\n",
       "      <td>1hr - 2 hrs per day</td>\n",
       "      <td>1hr - 2 hrs per day</td>\n",
       "      <td>60</td>\n",
       "      <td>60</td>\n",
       "      <td>2.2</td>\n",
       "      <td>2.2</td>\n",
       "    </tr>\n",
       "  </tbody>\n",
       "</table>\n",
       "</div>"
      ],
      "text/plain": [
       "            Timestamp               ID  Gender               Age  \\\n",
       "0  2/25/2023 15:09:29             TEST    Male  18-24 years old.   \n",
       "1  3/14/2023 11:07:22    AV55CMG8KR1YH    Male  35-44 years old.   \n",
       "2  3/14/2023 11:08:01   A24GX1OZE6AY04    Male  35-44 years old.   \n",
       "3  3/14/2023 11:15:48    AZ737VU2O528H    Male  18-24 years old.   \n",
       "4  3/14/2023 11:43:11  A3UMSDXNUKMBWR   Female  25-34 years old.   \n",
       "\n",
       "            Ethnicity             Income State        Exercise (Pre-Cov)  \\\n",
       "0               Asian  Less than $15,000    CA  Less than 15 min per day   \n",
       "1  Non-Hispanic White  $35,000 - $49,999    NC      30min - 1 hr per day   \n",
       "2  Non-Hispanic White  Less than $15,000    OH  Less than 15 min per day   \n",
       "3  Non-Hispanic White  $25,000 - $34,999    AK   15 min - 30 min per day   \n",
       "4  Non-Hispanic White  $50,000 - $74,999    IN       1hr - 2 hrs per day   \n",
       "\n",
       "        Exercise (Post-Cov)  Height (Pre-Cov)  Height (Post-Cov)  \\\n",
       "0  Less than 15 min per day                67                 67   \n",
       "1      30min - 1 hr per day                60                 60   \n",
       "2   15 min - 30 min per day                72                 72   \n",
       "3      30min - 1 hr per day                78                 78   \n",
       "4       1hr - 2 hrs per day                60                 60   \n",
       "\n",
       "   Weight (Pre-Cov)  Weight (Post-Cov)  \n",
       "0             140.0              170.0  \n",
       "1             143.0              143.0  \n",
       "2             195.0              195.0  \n",
       "3              65.0               60.0  \n",
       "4               2.2                2.2  "
      ]
     },
     "execution_count": 3,
     "metadata": {},
     "output_type": "execute_result"
    }
   ],
   "source": [
    "# Display the first five rows of the raw data\n",
    "\n",
    "data.head()"
   ]
  },
  {
   "cell_type": "markdown",
   "id": "4fd839b5",
   "metadata": {},
   "source": [
    "### 4.1 Data Overview\n",
    "As we can see from the printout in the last cell, the data contains 13 columns, 11 of which will be useful in our later analysis. The *Timestamp* and *ID* columns will be dropped later as they serve only to identify the specific MTurk respondents and the time at wich they responded to the survey. The remaining 11 columns correspond to each of the survey questions. They are:\n",
    "\n",
    "1. **Gender**: The gender of the respondent, which can be 'Male', 'Female' or 'Other'\n",
    "2. **Age**: The age of the respondent, in years, which can be one of the following categories:\n",
    "- Under 12 years old\n",
    "- 12-17 yeard old\n",
    "- 18-24 years old\n",
    "- 25-34 years old\n",
    "- 35-44 years old\n",
    "- 45-54 years old\n",
    "- 55-64 years old\n",
    "- 65+ years old\n",
    "3. **Ethnicity**: The age of the respondent, which can be one of the following options:\n",
    "- American Indian/Alaska Native\n",
    "- Hawaiian/Pacific Islander\n",
    "- Hispanic\n",
    "- Non-Hispanic Black\n",
    "- Non-Hispanic White\n",
    "- Asian\n",
    "- 2 or more races\n",
    "4. **Income**: The income of the respondent, in USD, which can fall into one of the following categories:\n",
    "- Less than USD 15,000\n",
    "- USD 15,000 - 24,999\n",
    "- USD 25,000 - 34,999\n",
    "- USD 35,000 - 49,999\n",
    "- USD 55,000 - 74,999\n",
    "- USD 75,000 or greater\n",
    "\n",
    "5. **State**: The geographic region of the US where the individual is located, categorized by the 54 US states and territories. \n",
    "6. **Exercise (Pre-Cov)**: The amount of daily exercise in minutes and hours performed by the respondent BEFORE the Covid pandemic which can fall into one of the following categories:\n",
    "- Less than 15 min per day\n",
    "- 15 min - 30 min per day\n",
    "- 30min - 1 hr per day\n",
    "- 1hr - 2 hrs per day\n",
    "- 2 hrs - 3 hrs per day\n",
    "- More than 3 hrs per day\n",
    "7. **Exercise (Post-Cov)**: The amount of daily exercise in minutes and hours performed by the respondent AFTER the Covid pandemic which can fall into one of the same categories in 6. \n",
    "8. **Height (Pre-Cov)**: The height of the respondent, in inches, BEFORE the Covid pandemic\n",
    "9. **Height (Post-Cov)**: The height of the respondent, in inches, AFTER the Covid pandemic\n",
    "10. **Weight (Pre-Cov)**: The weight of the respondent, in pounds, BEFORE the Covid pandemic\n",
    "11. **Weight (Pre-Cov)**: The weight of the respondent, in pounds, AFTER the Covid pandemic "
   ]
  },
  {
   "cell_type": "markdown",
   "id": "ea0f7e39",
   "metadata": {},
   "source": [
    "### 4.2 Addressing missing or erroneous data\n",
    "\n",
    "Before we start working further with the data we need to evaluate it and decide if/how we should clean it. Since the survey required all questions to be filled out before being submitted, there is technically no missing data. However, we can see that a not insignificant portion of the height and weight columns make little sense. The heights are supposed to be recorded in inches and the weights in pounds. However we can see some rows where a person would have a weight of 60 lbs and a height of 170 inches (14 feet). It is clear that a decent number of respondents did not read the questions correctly and have either elected to give junk responses, or have mistakenly given their weights in kgs and heights in cm. Since we have a small dataset, I have chosen to go through the dataset on my own and manually judge which responses are junk, and which ones are simply mis-reported. Once the data has been cleaned manually, I re-imported it into a new dataframe below."
   ]
  },
  {
   "cell_type": "markdown",
   "id": "173cca8d",
   "metadata": {},
   "source": [
    " ### 4.3 Summary Statistics"
   ]
  },
  {
   "cell_type": "code",
   "execution_count": 4,
   "id": "0035ed3d",
   "metadata": {},
   "outputs": [
    {
     "data": {
      "text/html": [
       "<div>\n",
       "<style scoped>\n",
       "    .dataframe tbody tr th:only-of-type {\n",
       "        vertical-align: middle;\n",
       "    }\n",
       "\n",
       "    .dataframe tbody tr th {\n",
       "        vertical-align: top;\n",
       "    }\n",
       "\n",
       "    .dataframe thead th {\n",
       "        text-align: right;\n",
       "    }\n",
       "</style>\n",
       "<table border=\"1\" class=\"dataframe\">\n",
       "  <thead>\n",
       "    <tr style=\"text-align: right;\">\n",
       "      <th></th>\n",
       "      <th>Height (Pre-Cov)</th>\n",
       "      <th>Height (Post-Cov)</th>\n",
       "      <th>Weight (Pre-Cov)</th>\n",
       "      <th>Weight (Post-Cov)</th>\n",
       "    </tr>\n",
       "  </thead>\n",
       "  <tbody>\n",
       "    <tr>\n",
       "      <th>count</th>\n",
       "      <td>51.000000</td>\n",
       "      <td>51.000000</td>\n",
       "      <td>51.000000</td>\n",
       "      <td>51.000000</td>\n",
       "    </tr>\n",
       "    <tr>\n",
       "      <th>mean</th>\n",
       "      <td>65.588235</td>\n",
       "      <td>65.764706</td>\n",
       "      <td>143.411765</td>\n",
       "      <td>144.705882</td>\n",
       "    </tr>\n",
       "    <tr>\n",
       "      <th>std</th>\n",
       "      <td>5.311032</td>\n",
       "      <td>5.320106</td>\n",
       "      <td>34.380911</td>\n",
       "      <td>29.829042</td>\n",
       "    </tr>\n",
       "    <tr>\n",
       "      <th>min</th>\n",
       "      <td>47.000000</td>\n",
       "      <td>47.000000</td>\n",
       "      <td>88.000000</td>\n",
       "      <td>99.000000</td>\n",
       "    </tr>\n",
       "    <tr>\n",
       "      <th>25%</th>\n",
       "      <td>62.500000</td>\n",
       "      <td>62.500000</td>\n",
       "      <td>121.000000</td>\n",
       "      <td>127.500000</td>\n",
       "    </tr>\n",
       "    <tr>\n",
       "      <th>50%</th>\n",
       "      <td>66.000000</td>\n",
       "      <td>66.000000</td>\n",
       "      <td>143.000000</td>\n",
       "      <td>143.000000</td>\n",
       "    </tr>\n",
       "    <tr>\n",
       "      <th>75%</th>\n",
       "      <td>68.500000</td>\n",
       "      <td>69.000000</td>\n",
       "      <td>152.500000</td>\n",
       "      <td>155.000000</td>\n",
       "    </tr>\n",
       "    <tr>\n",
       "      <th>max</th>\n",
       "      <td>78.000000</td>\n",
       "      <td>78.000000</td>\n",
       "      <td>290.000000</td>\n",
       "      <td>270.000000</td>\n",
       "    </tr>\n",
       "  </tbody>\n",
       "</table>\n",
       "</div>"
      ],
      "text/plain": [
       "       Height (Pre-Cov)  Height (Post-Cov)  Weight (Pre-Cov)  \\\n",
       "count         51.000000          51.000000         51.000000   \n",
       "mean          65.588235          65.764706        143.411765   \n",
       "std            5.311032           5.320106         34.380911   \n",
       "min           47.000000          47.000000         88.000000   \n",
       "25%           62.500000          62.500000        121.000000   \n",
       "50%           66.000000          66.000000        143.000000   \n",
       "75%           68.500000          69.000000        152.500000   \n",
       "max           78.000000          78.000000        290.000000   \n",
       "\n",
       "       Weight (Post-Cov)  \n",
       "count          51.000000  \n",
       "mean          144.705882  \n",
       "std            29.829042  \n",
       "min            99.000000  \n",
       "25%           127.500000  \n",
       "50%           143.000000  \n",
       "75%           155.000000  \n",
       "max           270.000000  "
      ]
     },
     "execution_count": 4,
     "metadata": {},
     "output_type": "execute_result"
    }
   ],
   "source": [
    "# Re-import cleaned data\n",
    "# Get a list of the basic summary statistics for each column with numeric data\n",
    "\n",
    "data = pd.read_csv('Survey_data_clean.csv', low_memory = False)\n",
    "data.describe()"
   ]
  },
  {
   "cell_type": "markdown",
   "id": "9aac9750",
   "metadata": {},
   "source": [
    "After cleaning the data we can now take a look at the summary statistics for the numerical variables of the cleaned data. As we can see from the previous cell, the survey had a total of 51 responses. The average heights of the respondents before Covid was 65.56 in. (1.66m) and the average height after Covid was 65.77 in. (1.67m). The average weights of the respondents before Covid was 143.41 lbs (65.05 kg) and after Covid was 144.71 lbs (65.64 kg). So far, the average weights of the respondents seem to be following our hypothesized average increase in weight after Covid. \n",
    "\n",
    "In the next few cells I will create percentage breakdowns of each of the categorical variables. "
   ]
  },
  {
   "cell_type": "code",
   "execution_count": 5,
   "id": "0023ef8d",
   "metadata": {},
   "outputs": [
    {
     "name": "stdout",
     "output_type": "stream",
     "text": [
      "Male      58.823529\n",
      "Female    41.176471\n",
      "Name: Gender, dtype: float64\n"
     ]
    }
   ],
   "source": [
    "# Provide a percentage breakdown of the respondents by \"Gender\"\n",
    "\n",
    "category_counts = data['Gender'].value_counts()\n",
    "percentage_breakdown = category_counts / len(data) * 100\n",
    "print(percentage_breakdown)"
   ]
  },
  {
   "cell_type": "code",
   "execution_count": 6,
   "id": "0288f4d5",
   "metadata": {},
   "outputs": [
    {
     "name": "stdout",
     "output_type": "stream",
     "text": [
      "25-34 years old.    58.823529\n",
      "35-44 years old.    19.607843\n",
      "45-54 years old.    13.725490\n",
      "18-24 years old.     5.882353\n",
      "55-64 years old.     1.960784\n",
      "Name: Age, dtype: float64\n"
     ]
    }
   ],
   "source": [
    "# Provide a percentage breakdown of the respondents by \"Age\"\n",
    "\n",
    "category_counts = data['Age'].value_counts()\n",
    "percentage_breakdown = category_counts / len(data) * 100\n",
    "print(percentage_breakdown)"
   ]
  },
  {
   "cell_type": "code",
   "execution_count": 7,
   "id": "c60abf8f",
   "metadata": {},
   "outputs": [
    {
     "name": "stdout",
     "output_type": "stream",
     "text": [
      "Non-Hispanic White               54.901961\n",
      "American Indian/Alaska Native    23.529412\n",
      "Asian                            15.686275\n",
      "Non-Hispanic Black                3.921569\n",
      "Hispanic                          1.960784\n",
      "Name: Ethnicity, dtype: float64\n"
     ]
    }
   ],
   "source": [
    "# Provide a percentage breakdown of the respondents by \"Ethnicity\"\n",
    "\n",
    "category_counts = data['Ethnicity'].value_counts()\n",
    "percentage_breakdown = category_counts / len(data) * 100\n",
    "print(percentage_breakdown)"
   ]
  },
  {
   "cell_type": "code",
   "execution_count": 8,
   "id": "33fbc64b",
   "metadata": {},
   "outputs": [
    {
     "name": "stdout",
     "output_type": "stream",
     "text": [
      "$50,000 - $74,999     35.294118\n",
      "$35,000 - $49,999     23.529412\n",
      "$25,000 - $34,999     15.686275\n",
      "$75,000 or greater    15.686275\n",
      "Less than $15,000      5.882353\n",
      "$15,000 - $24,999      3.921569\n",
      "Name: Income, dtype: float64\n"
     ]
    }
   ],
   "source": [
    "# Provide a percentage breakdown of the respondents by \"Income\"\n",
    "\n",
    "category_counts = data['Income'].value_counts()\n",
    "percentage_breakdown = category_counts / len(data) * 100\n",
    "print(percentage_breakdown)"
   ]
  },
  {
   "cell_type": "code",
   "execution_count": 9,
   "id": "8114ec36",
   "metadata": {},
   "outputs": [
    {
     "name": "stdout",
     "output_type": "stream",
     "text": [
      "IN    29.411765\n",
      "AK    15.686275\n",
      "CT     9.803922\n",
      "CA     7.843137\n",
      "VA     5.882353\n",
      "VI     3.921569\n",
      "TX     1.960784\n",
      "WA     1.960784\n",
      "WI     1.960784\n",
      "AZ     1.960784\n",
      "NJ     1.960784\n",
      "PA     1.960784\n",
      "MI     1.960784\n",
      "OK     1.960784\n",
      "NC     1.960784\n",
      "AL     1.960784\n",
      "CO     1.960784\n",
      "LA     1.960784\n",
      "OH     1.960784\n",
      "NY     1.960784\n",
      "Name: State, dtype: float64\n"
     ]
    }
   ],
   "source": [
    "# Provide a percentage breakdown of the respondents by \"State\"\n",
    "\n",
    "category_counts = data['State'].value_counts()\n",
    "percentage_breakdown = category_counts / len(data) * 100\n",
    "print(percentage_breakdown)"
   ]
  },
  {
   "cell_type": "code",
   "execution_count": 10,
   "id": "395f8512",
   "metadata": {},
   "outputs": [
    {
     "name": "stdout",
     "output_type": "stream",
     "text": [
      "30min - 1 hr per day        35.294118\n",
      "15 min - 30 min per day     33.333333\n",
      "1hr - 2 hrs per day         19.607843\n",
      "Less than 15 min per day     7.843137\n",
      "2 hrs - 3 hrs per day        3.921569\n",
      "Name: Exercise (Pre-Cov), dtype: float64\n"
     ]
    }
   ],
   "source": [
    "# Provide a percentage breakdown of the respondents by \"Exercise (Pre-Cov)\"\n",
    "\n",
    "category_counts = data['Exercise (Pre-Cov)'].value_counts()\n",
    "percentage_breakdown = category_counts / len(data) * 100\n",
    "print(percentage_breakdown)"
   ]
  },
  {
   "cell_type": "code",
   "execution_count": 11,
   "id": "1885c69c",
   "metadata": {},
   "outputs": [
    {
     "name": "stdout",
     "output_type": "stream",
     "text": [
      "30min - 1 hr per day        37.254902\n",
      "15 min - 30 min per day     29.411765\n",
      "1hr - 2 hrs per day         21.568627\n",
      "Less than 15 min per day     5.882353\n",
      "2 hrs - 3 hrs per day        5.882353\n",
      "Name: Exercise (Post-Cov), dtype: float64\n"
     ]
    }
   ],
   "source": [
    "# Provide a percentage breakdown of the respondents by \"Exercise (Post-Cov)\"\n",
    "\n",
    "category_counts = data['Exercise (Post-Cov)'].value_counts()\n",
    "percentage_breakdown = category_counts / len(data) * 100\n",
    "print(percentage_breakdown)"
   ]
  },
  {
   "cell_type": "markdown",
   "id": "0c3c0e6c",
   "metadata": {},
   "source": [
    "As we can see from the cells above the data is already exhibiting abnormalities that do not match what we hypothesized or intended. We will examine the issues with the data in the Analysis section. "
   ]
  },
  {
   "cell_type": "markdown",
   "id": "60ce7779",
   "metadata": {},
   "source": [
    "## 5. Analysis and results\n",
    "\n",
    "- visualise individual variables\n",
    "- visualise relationships between variables\n",
    "- aim for high quality explanatory visualisation that describe or tell a story about the behaviour or phenomena under investigation\n",
    "- marks will be awarded for (see rubric for more detail):\n",
    "- appropriate plots for variable data types\n",
    "- presentation quality\n",
    "- visual communication\n",
    "- methodical data visualisation process"
   ]
  },
  {
   "cell_type": "markdown",
   "id": "fa7c3e47",
   "metadata": {},
   "source": [
    "### 5.1 Examing our Anchoring Questions\n",
    "\n",
    "We begin the analysis by examining how representative our anchoring data is of the actual population of the US. Doing so will allow us to determine how representative our sample is. "
   ]
  },
  {
   "cell_type": "code",
   "execution_count": 12,
   "id": "83935b52",
   "metadata": {},
   "outputs": [
    {
     "data": {
      "image/png": "[encoded data removed]",
      "text/plain": [
       "<Figure size 1080x360 with 2 Axes>"
      ]
     },
     "metadata": {},
     "output_type": "display_data"
    }
   ],
   "source": [
    "# Create pie chart for gender breakdown\n",
    "\n",
    "# Define column to display\n",
    "column_to_chart = 'Gender'\n",
    "value_counts = data[column_to_chart].value_counts()\n",
    "\n",
    "# Data from US Census\n",
    "data1 = [49.5, 50.5]\n",
    "labels1 = ['Male', 'Female']\n",
    "\n",
    "# Plotting first pie chart\n",
    "plt.figure(figsize=(15,5))\n",
    "plt.subplot(1, 2, 1)\n",
    "plt.pie(value_counts, labels=value_counts.index, autopct='%1.1f%%')\n",
    "plt.title('Gender (Sample)')\n",
    "\n",
    "# Plotting second pie chart\n",
    "plt.subplot(1, 2, 2)\n",
    "plt.pie(data1, labels=labels1, autopct='%1.1f%%')\n",
    "plt.title('Gender (Census Data)')\n",
    "\n",
    "plt.show()"
   ]
  },
  {
   "cell_type": "markdown",
   "id": "a7661990",
   "metadata": {},
   "source": [
    "As we can see above, the sample is split fairly unequally between male and female respondents. The US census reports that the US roughly has a population split of 50.5% female and 49.5% male (Source: https://www.census.gov/quickfacts/fact/table/US/LFE046221). This demonstrates that our sample is skewed dramatically towards male respondents. "
   ]
  },
  {
   "cell_type": "code",
   "execution_count": 13,
   "id": "059df1fd",
   "metadata": {},
   "outputs": [
    {
     "data": {
      "image/png": "[encoded data removed]",
      "text/plain": [
       "<Figure size 1080x360 with 2 Axes>"
      ]
     },
     "metadata": {},
     "output_type": "display_data"
    }
   ],
   "source": [
    "# Create pie chart for age breakdown\n",
    "\n",
    "# Define column to display\n",
    "column_to_chart = 'Age'\n",
    "value_counts = data[column_to_chart].value_counts()\n",
    "\n",
    "# Data from US Census\n",
    "data1 = [16.68, 65.08, 18.25]\n",
    "labels1 = ['0-14 years', '15-64 years', '65+ years']\n",
    "\n",
    "# Plotting first pie chart\n",
    "plt.figure(figsize=(15,5))\n",
    "plt.subplot(1, 2, 1)\n",
    "plt.pie(value_counts, labels=value_counts.index, autopct='%1.1f%%')\n",
    "plt.title('Age (Sample)')\n",
    "\n",
    "# Plotting second pie chart\n",
    "plt.subplot(1, 2, 2)\n",
    "plt.pie(data1, labels=labels1, autopct='%1.1f%%')\n",
    "plt.title('Age (Census Data)')\n",
    "\n",
    "plt.show()"
   ]
  },
  {
   "cell_type": "markdown",
   "id": "4b362c97",
   "metadata": {},
   "source": [
    "As show in the pie chart above, the data displays a very odd distribution. While we would expect ages to cluster in a normal distribution around a mean age, the data appears to be skewed heavily towards the lower end of the spectrum. This data also reveals a very significant shortcoming in the data gathering method; respondents on the MTurk platform MUST be older than 18 to register for accounts. Therefore we have essentially already excluded any respondents younger than 18 from our sample. Data from the US census shows that 65% of the US population falls within the age range of 18 - 64 years of age (Source: https://www.statista.com/statistics/270000/age-distribution-in-the-united-states). This means that the remaining 35% of the population is completely missing from this sample which means that it does not accurately reflect the US population as a whole. "
   ]
  },
  {
   "cell_type": "code",
   "execution_count": 14,
   "id": "0a5e6f3c",
   "metadata": {},
   "outputs": [
    {
     "data": {
      "image/png": "[encoded data removed]",
      "text/plain": [
       "<Figure size 1080x360 with 2 Axes>"
      ]
     },
     "metadata": {},
     "output_type": "display_data"
    }
   ],
   "source": [
    "# Create pie chart for ethnicity breakdown\n",
    "\n",
    "# Define column to display\n",
    "column_to_chart = 'Ethnicity'\n",
    "value_counts = data[column_to_chart].value_counts()\n",
    "\n",
    "# Data from US Census\n",
    "data1 = [59.3, 1.3, 6.1, 13.6, 18.9, 2.9]\n",
    "labels1 = ['Non-Hispanic White', 'American Indian and Alaska Native', 'Asian', 'Non-Hispanic Black', 'Hispanic', '2 or more races']\n",
    "\n",
    "# Plotting first pie chart\n",
    "plt.figure(figsize=(15,5))\n",
    "plt.subplot(1, 2, 1)\n",
    "plt.pie(value_counts, labels=value_counts.index, autopct='%1.1f%%')\n",
    "plt.title('Ethnicity (Sample)')\n",
    "\n",
    "# Plotting second pie chart\n",
    "plt.subplot(1, 2, 2)\n",
    "plt.pie(data1, labels=labels1, autopct='%1.1f%%')\n",
    "plt.title('Ethnicity (Census Data)')\n",
    "\n",
    "plt.show()"
   ]
  },
  {
   "cell_type": "markdown",
   "id": "f1b09c60",
   "metadata": {},
   "source": [
    "As we can see from the pie chart above *Non-Hispanic White* respondents are the majority with *American Indian/Alaska Native* and *Asian* respondents also making up large percentages of the sample. However according to the US census, White respondents are actually underrepresented while Asians and American Indians are overrepresented. (Source:https://www.census.gov/quickfacts/fact/table/US/PST045221) "
   ]
  },
  {
   "cell_type": "code",
   "execution_count": 15,
   "id": "4164c503",
   "metadata": {},
   "outputs": [
    {
     "data": {
      "image/png": "[encoded data removed]",
      "text/plain": [
       "<Figure size 432x288 with 1 Axes>"
      ]
     },
     "metadata": {},
     "output_type": "display_data"
    }
   ],
   "source": [
    "# Create pie chart for income breakdown\n",
    "\n",
    "column_to_chart = 'Income'\n",
    "value_counts = data[column_to_chart].value_counts()\n",
    "plt.pie(value_counts, labels=value_counts.index, autopct='%1.1f%%')\n",
    "plt.title('Pie chart of ' + column_to_chart)\n",
    "plt.show()"
   ]
  },
  {
   "cell_type": "markdown",
   "id": "553a41dc",
   "metadata": {},
   "source": [
    "As we can see from the pie chart above, the breakdown of percentage of respondents who fall into each of the income brackets skews towards the higher income brackets. The proportion of respondents who fall into each of the categories seems to roughly match the proportions of US household incomes that fall into each of the brackets (Source: https://www.statista.com/statistics/203183/percentage-distribution-of-household-income-in-the-us). However, the actual data seems to indicate that there should be significantly more respondents in the *75,000 or greater* category. "
   ]
  },
  {
   "cell_type": "code",
   "execution_count": 16,
   "id": "b67d3753",
   "metadata": {},
   "outputs": [
    {
     "data": {
      "image/png": "[encoded data removed]",
      "text/plain": [
       "<Figure size 1296x648 with 1 Axes>"
      ]
     },
     "metadata": {
      "needs_background": "light"
     },
     "output_type": "display_data"
    }
   ],
   "source": [
    "# Generate bar chart of frequency by location (State)\n",
    "\n",
    "# Specify the name of the column containing the categorical data\n",
    "column_name = \"State\"\n",
    "\n",
    "# Create a frequency table of the categorical data\n",
    "freq_table = data['State'].value_counts()\n",
    "\n",
    "# Create a bar chart of the frequency table\n",
    "plt.figure(figsize=(18,9))\n",
    "freq_table.plot(kind='bar')\n",
    "plt.title('Frequency by State')\n",
    "plt.xlabel(\"State\")\n",
    "plt.ylabel(\"Frequency\")\n",
    "plt.show()\n"
   ]
  },
  {
   "cell_type": "markdown",
   "id": "d3004273",
   "metadata": {},
   "source": [
    "As we can see from the bar chart above, the sample has a very strange distribution of respondents by location. Indiana and Arkansas are extremely overrepresented in the data, when they are actually only the 17th and 34th most populous state (Source: https://www.census.gov/data/tables/time-series/demo/popest/2020s-state-total.html). California is actually the most populous state with almost 12% of the US population but only ranks 4th in the sample data. "
   ]
  },
  {
   "cell_type": "markdown",
   "id": "875b9ee5",
   "metadata": {},
   "source": [
    "Unfortunately it seems that the surveying method has resulted in data that does not accurately represent the population from a variety of perspectives. It will be interesting to see how/if this affects our final results. "
   ]
  },
  {
   "cell_type": "markdown",
   "id": "dd56f31e",
   "metadata": {},
   "source": [
    "### 5.2 BMI Calculations\n",
    "\n",
    "In this next section we add new columns to the dataframe that are calculated from the existing data. The two columns we wish to create are *BMI (Pre-Covid)* and *BMI (Post-Covid)*. Body Mass Index (BMI) is a measure of body fat based on height and weight that applies to both adult men and women. It is calculated by dividing a person's weight in kilograms by the square of their height in meters. The formula for BMI is:\n",
    "\n",
    "    BMI = weight (kg) / height (m)^2\n",
    "Source: https://www.cdc.gov/nccdphp/dnpao/growthcharts/training/bmiage/page5_2.html\n",
    "\n",
    "A BMI of less than 18.5 is considered underweight, between 18.5 and 24.9 is considered normal, between 25 and 29.9 is considered overweight, and 30 or above is considered obese (Source: https://www.cdc.gov/healthyweight/assessing/bmi/index.html).\n",
    "\n",
    "BMI is commonly used as a screening tool to identify potential health risks associated with being underweight, overweight, or obese. It is not a diagnostic tool, but rather an indicator that additional testing may be necessary. Some potential health risks associated with high BMI include type 2 diabetes, high blood pressure, heart disease, stroke, and some types of cancer. However, it is important to note that BMI is not a perfect measure of health and does not take into account factors such as muscle mass or body composition. Therefore, it should be used in conjunction with other measures of health such as waist circumference, blood pressure, and blood tests. For the purposes of this survey we will use each respondent's BMI as a rough indicator of the health of that respondent. \n",
    "\n",
    "The cell below adds the two new columns to the dataframe but uses a slightly modified calculation method to account for the change in units. "
   ]
  },
  {
   "cell_type": "code",
   "execution_count": 17,
   "id": "0e066547",
   "metadata": {},
   "outputs": [
    {
     "data": {
      "text/html": [
       "<div>\n",
       "<style scoped>\n",
       "    .dataframe tbody tr th:only-of-type {\n",
       "        vertical-align: middle;\n",
       "    }\n",
       "\n",
       "    .dataframe tbody tr th {\n",
       "        vertical-align: top;\n",
       "    }\n",
       "\n",
       "    .dataframe thead th {\n",
       "        text-align: right;\n",
       "    }\n",
       "</style>\n",
       "<table border=\"1\" class=\"dataframe\">\n",
       "  <thead>\n",
       "    <tr style=\"text-align: right;\">\n",
       "      <th></th>\n",
       "      <th>BMI (Pre-Covid)</th>\n",
       "      <th>BMI (Post-Covid)</th>\n",
       "    </tr>\n",
       "  </thead>\n",
       "  <tbody>\n",
       "    <tr>\n",
       "      <th>count</th>\n",
       "      <td>51.000000</td>\n",
       "      <td>51.000000</td>\n",
       "    </tr>\n",
       "    <tr>\n",
       "      <th>mean</th>\n",
       "      <td>23.617827</td>\n",
       "      <td>23.812666</td>\n",
       "    </tr>\n",
       "    <tr>\n",
       "      <th>std</th>\n",
       "      <td>5.760955</td>\n",
       "      <td>5.645385</td>\n",
       "    </tr>\n",
       "    <tr>\n",
       "      <th>min</th>\n",
       "      <td>15.474320</td>\n",
       "      <td>15.252465</td>\n",
       "    </tr>\n",
       "    <tr>\n",
       "      <th>25%</th>\n",
       "      <td>19.824663</td>\n",
       "      <td>20.576791</td>\n",
       "    </tr>\n",
       "    <tr>\n",
       "      <th>50%</th>\n",
       "      <td>22.804931</td>\n",
       "      <td>23.513428</td>\n",
       "    </tr>\n",
       "    <tr>\n",
       "      <th>75%</th>\n",
       "      <td>25.621387</td>\n",
       "      <td>25.867613</td>\n",
       "    </tr>\n",
       "    <tr>\n",
       "      <th>max</th>\n",
       "      <td>42.961111</td>\n",
       "      <td>42.961111</td>\n",
       "    </tr>\n",
       "  </tbody>\n",
       "</table>\n",
       "</div>"
      ],
      "text/plain": [
       "       BMI (Pre-Covid)  BMI (Post-Covid)\n",
       "count        51.000000         51.000000\n",
       "mean         23.617827         23.812666\n",
       "std           5.760955          5.645385\n",
       "min          15.474320         15.252465\n",
       "25%          19.824663         20.576791\n",
       "50%          22.804931         23.513428\n",
       "75%          25.621387         25.867613\n",
       "max          42.961111         42.961111"
      ]
     },
     "execution_count": 17,
     "metadata": {},
     "output_type": "execute_result"
    }
   ],
   "source": [
    "# Add pre and post Covid BMI calculations\n",
    "# BMI = weight (lb) / [height (in)]2 x 703\n",
    "\n",
    "data['BMI (Pre-Covid)'] = data['Weight (Pre-Cov)']/pow(data['Height (Pre-Cov)'], 2)*703\n",
    "data['BMI (Post-Covid)'] = data['Weight (Post-Cov)']/pow(data['Height (Post-Cov)'], 2)*703\n",
    "data = data.drop(['Height (Pre-Cov)', 'Height (Post-Cov)', 'Weight (Pre-Cov)', 'Weight (Post-Cov)'], axis=1)\n",
    "\n",
    "# Show summary statistics of the newly generated rows. \n",
    "data.describe()"
   ]
  },
  {
   "cell_type": "markdown",
   "id": "7fe90b9c",
   "metadata": {},
   "source": [
    "The cell above now displays the mean BMI values for the sample as a whole. In the next few cells we will create some tables to display both the BMI values for the sample data when filtered or grouped by various means, and the same values from the CDC. "
   ]
  },
  {
   "cell_type": "code",
   "execution_count": 18,
   "id": "a0ecdd29",
   "metadata": {},
   "outputs": [
    {
     "name": "stdout",
     "output_type": "stream",
     "text": [
      "        BMI (Pre-Covid)  BMI (Post-Covid)  BMI (Pre-Cov) C  BMI (Post-Cov) C\n",
      "Female            23.78             23.70             28.8              29.1\n",
      "Male              23.51             23.89             29.0              29.2\n"
     ]
    }
   ],
   "source": [
    "# Show summary statistics for only respondents and the population when grouped by Gender\n",
    "\n",
    "grouped_means = data.groupby('Gender').mean().round(2)\n",
    "\n",
    "\n",
    "# New columns data\n",
    "CDC_data = {\n",
    "    'Category': ['Female', 'Male'],\n",
    "    'BMI (Pre-Cov) C': [28.8, 29.0],\n",
    "    'BMI (Post-Cov) C': [29.1, 29.2]\n",
    "}\n",
    "\n",
    "CDC_data_df = pd.DataFrame(CDC_data)\n",
    "CDC_data_df.set_index('Category', inplace=True)\n",
    "table = pd.concat([grouped_means, CDC_data_df], axis=1)\n",
    "print(table)"
   ]
  },
  {
   "cell_type": "code",
   "execution_count": 19,
   "id": "f045147c",
   "metadata": {},
   "outputs": [
    {
     "data": {
      "image/png": "[encoded data removed]",
      "text/plain": [
       "<Figure size 720x720 with 1 Axes>"
      ]
     },
     "metadata": {
      "needs_background": "light"
     },
     "output_type": "display_data"
    }
   ],
   "source": [
    "# Plot multiple bar chart of the table above\n",
    "\n",
    "ax = table.plot(kind='bar', figsize=(10, 10))\n",
    "ax.set_xlabel('Gender')\n",
    "ax.set_ylabel('BMI')\n",
    "ax.set_title('BMI by Gender')\n",
    "plt.xticks(rotation=0)\n",
    "plt.show()"
   ]
  },
  {
   "cell_type": "code",
   "execution_count": 20,
   "id": "5a0ad72b",
   "metadata": {},
   "outputs": [
    {
     "name": "stdout",
     "output_type": "stream",
     "text": [
      "                  BMI (Pre-Covid)  BMI (Post-Covid)  BMI (Pre-Cov) C  \\\n",
      "18-24 years old.            18.56             19.91             25.5   \n",
      "25-34 years old.            23.89             23.85             27.2   \n",
      "35-44 years old.            24.59             25.50             29.1   \n",
      "45-54 years old.            23.73             23.69             28.9   \n",
      "55-64 years old.            19.94             18.41             29.0   \n",
      "\n",
      "                  BMI (Post-Cov) C  \n",
      "18-24 years old.              25.6  \n",
      "25-34 years old.              27.6  \n",
      "35-44 years old.              29.6  \n",
      "45-54 years old.              29.1  \n",
      "55-64 years old.              29.1  \n"
     ]
    }
   ],
   "source": [
    "# Show summary statistics for only respondents and the population when grouped by Age\n",
    "\n",
    "grouped_means = data.groupby('Age').mean().round(2)\n",
    "\n",
    "\n",
    "# New columns data\n",
    "CDC_data = {\n",
    "    'Category': ['18-24 years old.', '25-34 years old.', '35-44 years old.', '45-54 years old.', '55-64 years old.'],\n",
    "    'BMI (Pre-Cov) C': [25.5, 27.2, 29.1, 28.9, 29.0],\n",
    "    'BMI (Post-Cov) C': [25.6, 27.6, 29.6, 29.1, 29.1]\n",
    "}\n",
    "\n",
    "CDC_data_df = pd.DataFrame(CDC_data)\n",
    "CDC_data_df.set_index('Category', inplace=True)\n",
    "table = pd.concat([grouped_means, CDC_data_df], axis=1)\n",
    "print(table)"
   ]
  },
  {
   "cell_type": "code",
   "execution_count": 21,
   "id": "93014b66",
   "metadata": {},
   "outputs": [
    {
     "data": {
      "image/png": "[encoded data removed]",
      "text/plain": [
       "<Figure size 1440x720 with 1 Axes>"
      ]
     },
     "metadata": {
      "needs_background": "light"
     },
     "output_type": "display_data"
    }
   ],
   "source": [
    "# Plot multiple bar chart of the table above\n",
    "\n",
    "ax = table.plot(kind='bar', figsize=(20, 10))\n",
    "ax.set_xlabel('Age')\n",
    "ax.set_ylabel('BMI')\n",
    "ax.set_title('BMI by Age')\n",
    "plt.xticks(rotation=0)\n",
    "plt.show()"
   ]
  },
  {
   "cell_type": "code",
   "execution_count": 22,
   "id": "a022b2cb",
   "metadata": {},
   "outputs": [
    {
     "name": "stdout",
     "output_type": "stream",
     "text": [
      "                    BMI (Pre-Covid)  BMI (Post-Covid)  BMI (Pre-Cov) C  \\\n",
      "$15,000 - $24,999             24.51             22.37             29.2   \n",
      "$25,000 - $34,999             21.49             21.42             29.0   \n",
      "$35,000 - $49,999             24.52             24.14             29.1   \n",
      "$50,000 - $74,999             23.66             24.38             29.5   \n",
      "$75,000 or greater            24.21             24.53             29.6   \n",
      "Less than $15,000             23.22             24.52             29.3   \n",
      "\n",
      "                    BMI (Post-Cov) C  \n",
      "$15,000 - $24,999               29.1  \n",
      "$25,000 - $34,999               29.1  \n",
      "$35,000 - $49,999               29.2  \n",
      "$50,000 - $74,999               29.7  \n",
      "$75,000 or greater              29.8  \n",
      "Less than $15,000               29.4  \n"
     ]
    }
   ],
   "source": [
    "# Show summary statistics for only respondents and the population when grouped by Income\n",
    "\n",
    "grouped_means = data.groupby('Income').mean().round(2)\n",
    "grouped_means\n",
    "\n",
    "# New columns data\n",
    "CDC_data = {\n",
    "    'Category': ['$15,000 - $24,999', '$25,000 - $34,999', '$35,000 - $49,999', '$50,000 - $74,999', '$75,000 or greater', 'Less than $15,000'],\n",
    "    'BMI (Pre-Cov) C': [29.2, 29.0, 29.1, 29.5, 29.6, 29.3],\n",
    "    'BMI (Post-Cov) C': [29.1, 29.1, 29.2, 29.7, 29.8, 29.4]\n",
    "}\n",
    "\n",
    "CDC_data_df = pd.DataFrame(CDC_data)\n",
    "CDC_data_df.set_index('Category', inplace=True)\n",
    "table = pd.concat([grouped_means, CDC_data_df], axis=1)\n",
    "print(table)\n"
   ]
  },
  {
   "cell_type": "code",
   "execution_count": 23,
   "id": "468941f2",
   "metadata": {},
   "outputs": [
    {
     "data": {
      "image/png": "[encoded data removed]",
      "text/plain": [
       "<Figure size 1440x720 with 1 Axes>"
      ]
     },
     "metadata": {
      "needs_background": "light"
     },
     "output_type": "display_data"
    }
   ],
   "source": [
    "# Plot multiple bar chart of the table above\n",
    "\n",
    "ax = table.plot(kind='bar', figsize=(20, 10))\n",
    "ax.set_xlabel('Income')\n",
    "ax.set_ylabel('BMI')\n",
    "ax.set_title('BMI by Income')\n",
    "plt.xticks(rotation=0)\n",
    "plt.show()"
   ]
  },
  {
   "cell_type": "markdown",
   "id": "2c48f014",
   "metadata": {},
   "source": [
    "### 5.3 Findings\n",
    "\n",
    "From the tables and charts above it is clear to see that our data has been quite different from the data from the CDC, however our sampled data does seem to follow more or less the same trends. We have chosen to omit two of the anchoring methods specifically the 'State' and 'Ethnicity' columns because we felt that they deviated so much from the actual population that any comparison would not be useful. \n",
    "\n",
    "Source: https://www.cdc.gov/nchs/products/databriefs/db390.htm"
   ]
  },
  {
   "cell_type": "markdown",
   "id": "25aaf3cd",
   "metadata": {},
   "source": [
    "## 6. Conclusions"
   ]
  },
  {
   "cell_type": "markdown",
   "id": "534af5ed",
   "metadata": {},
   "source": [
    "We set out in this project to attempt to quantify exactly how the COVID-19 pandemic has affected the average American. We conducted a survey using the Amazon Mechanical Turk platform and used the data to attempt to answer the research questions outlined earlier. Although we managed to gather quite a large sample size, our data ended up being rather skewed which negatively affected our final results. Our sampling method resulted in a dataset in which males, the middle-aged, and certain ethnicities were overrepresented. Unfortunately we did not anticipate that the MTurk platform would not be a truly representative sample of the US population as a whole. \n",
    "\n",
    "However, it was fortunate that our data ended up mostly mirroring the external data provided by the CDC. As can be seen from the visualizations above, the data often was off, but the general trends and patterns were the same. **We can now say that with the data gathered, along with the external data from the CDC, that the COVID-19 pandemic did in fact have a measurable impact on the health of the US population. Americans even when stratified by income, geographic location, ethnicity, or gender have all had measurable increases to their average BMI.** \n",
    "\n",
    "In the future I believe that more work would have to be done to ensure that the sampled data accurately matches the population. Using Amazon Mechanical Turk was a quick and efficient means of sampling but it clearly resulted in skewed data. If I were to undertake a larger project that expanded the scope of this project, I would spend significantly more time ensuring the sampling methods were better, as well as making the survey more in-depth to obtain more demographic information about the respondents. Ultimately BMI was probably not sufficient as an overall measure of health and more information about each respondent's exercise habits, diet, and medical history would have helped to create a more compelling conclusion to our original research questions. "
   ]
  },
  {
   "cell_type": "markdown",
   "id": "7920ccd0",
   "metadata": {
    "editable": false
   },
   "source": [
    "## Word Count\n",
    "\n",
    "The following code will count the number of words in Markdown cells. Code cells are not included.\n",
    "\n",
    "- `Main word count` is the number of words in the main body of the text, *excluding* references or appendices.\n",
    "- `References and appendices word count` is the number of words in any references or appendices.\n",
    "\n",
    "Only `Main word count` relates to the assignment word limit. There is no limit to the number of words that can be included in references or appendices. Please note that appendices should only be used to provide context or supporting information. *No marks will be directly awarded for material submitted in appendices*.\n",
    "\n",
    "Important:\n",
    "\n",
    "- Please do not modify the word count code!\n",
    "- To exclude references from your word count **you must** have a cell that starts with the text `## References`. Everything below this cell will not count towards the main word count.\n",
    "- If you are submitting additional material as appendices **you must** have a cell that starts with the text `## Appendices`. Everything below this cell will not count towards the main word count. If you do not have any appendices you can delete the `## Appendices` cell.\n",
    "- Code comments should only be used to explain details of the implementation, not for discussing your findings. All analysis commentary **must** be written in Markdown cells. *No marks will be awarded for analysis discussion submitted as comments in code cells*."
   ]
  },
  {
   "cell_type": "code",
   "execution_count": 27,
   "id": "4a0d931b",
   "metadata": {
    "editable": false,
    "tags": []
   },
   "outputs": [
    {
     "data": {
      "application/javascript": [
       "\n",
       "// Run this cell to update your word count.\n",
       "\n",
       "function wordcount() {\n",
       "    let wordCount = 0\n",
       "    let extraCount = 0\n",
       "    let mainBody = true\n",
       "\n",
       "    let cells = Jupyter.notebook.get_cells()\n",
       "    cells.forEach((cell) => {\n",
       "        if (cell.cell_type == 'markdown') {\n",
       "            let text = cell.get_text()\n",
       "            // Stop counting as main body when get to References or Appendices.\n",
       "            if (text.startsWith('## References') ||\n",
       "                text.startsWith('## Appendices')) {\n",
       "                mainBody = false\n",
       "            }\n",
       "            if (text.startsWith('## Word Count')) {\n",
       "                text = ''\n",
       "            }\n",
       "            if (text) {\n",
       "                let words = text.toLowerCase().match(/\\b[a-z\\d]+\\b/g)\n",
       "                if (words) {\n",
       "                    let cellCount = words.length\n",
       "                    if (mainBody) {\n",
       "                        wordCount += cellCount\n",
       "                    } else {\n",
       "                        extraCount += cellCount\n",
       "                    }\n",
       "                }\n",
       "            }\n",
       "        }\n",
       "    })\n",
       "    return [wordCount, extraCount]\n",
       "}\n",
       "\n",
       "let wc = wordcount()\n",
       "element.append(`Main word count: ${wc[0]} (References and appendices word count: ${wc[1]})`)\n"
      ],
      "text/plain": [
       "<IPython.core.display.Javascript object>"
      ]
     },
     "metadata": {},
     "output_type": "display_data"
    }
   ],
   "source": [
    "%%js\n",
    "\n",
    "// Run this cell to update your word count.\n",
    "\n",
    "function wordcount() {\n",
    "    let wordCount = 0\n",
    "    let extraCount = 0\n",
    "    let mainBody = true\n",
    "\n",
    "    let cells = Jupyter.notebook.get_cells()\n",
    "    cells.forEach((cell) => {\n",
    "        if (cell.cell_type == 'markdown') {\n",
    "            let text = cell.get_text()\n",
    "            // Stop counting as main body when get to References or Appendices.\n",
    "            if (text.startsWith('## References') ||\n",
    "                text.startsWith('## Appendices')) {\n",
    "                mainBody = false\n",
    "            }\n",
    "            if (text.startsWith('## Word Count')) {\n",
    "                text = ''\n",
    "            }\n",
    "            if (text) {\n",
    "                let words = text.toLowerCase().match(/\\b[a-z\\d]+\\b/g)\n",
    "                if (words) {\n",
    "                    let cellCount = words.length\n",
    "                    if (mainBody) {\n",
    "                        wordCount += cellCount\n",
    "                    } else {\n",
    "                        extraCount += cellCount\n",
    "                    }\n",
    "                }\n",
    "            }\n",
    "        }\n",
    "    })\n",
    "    return [wordCount, extraCount]\n",
    "}\n",
    "\n",
    "let wc = wordcount()\n",
    "element.append(`Main word count: ${wc[0]} (References and appendices word count: ${wc[1]})`)"
   ]
  }
 ],
 "metadata": {
  "celltoolbar": "Edit Metadata",
  "kernelspec": {
   "display_name": "Python 3 (ipykernel)",
   "language": "python",
   "name": "python3"
  },
  "language_info": {
   "codemirror_mode": {
    "name": "ipython",
    "version": 3
   },
   "file_extension": ".py",
   "mimetype": "text/x-python",
   "name": "python",
   "nbconvert_exporter": "python",
   "pygments_lexer": "ipython3",
   "version": "3.9.12"
  }
 },
 "nbformat": 4,
 "nbformat_minor": 5
}
