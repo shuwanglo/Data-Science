{
 "cells": [
  {
   "cell_type": "markdown",
   "id": "e40134e7",
   "metadata": {},
   "source": [
    "# Data Visualisation Coursework 2\n",
    "### March 2023"
   ]
  },
  {
   "cell_type": "markdown",
   "id": "cf908fea",
   "metadata": {},
   "source": [
    "## Introduction\n",
    "\n",
    "The COVID-19 pandemic needs no introduction. Beyond the millions of deaths worldwide, the pandemic has had far-reaching secondary effects. The pandemic is now considered not only a health crisis, but also a social and economic crisis. The repercussions of which, have yet to be fully explored and understood. \n",
    "\n",
    "In early 2020 until mid 2021 most parts of the United States were subject to shelter-in-place orders by local government. The result of which on physical health has not been widely studied quantitatively but the cultural and societal shift has been obvious. \n",
    "\n",
    "The pandemic has caused disruptions in daily routines, including changes in work, school, and exercise patterns. Many people have been working from home and spending more time indoors, leading to more sedentary behavior and less physical activity. Additionally, the pandemic has caused an increase in stress and anxiety levels, which can lead to overeating and unhealthy food choices.\n",
    "\n",
    "According to a study published in the Journal of the American Medical Association (JAMA) in March 2021 (Source: https://www.cdc.gov/nchs/products/databriefs/db360.htm), the prevalence of obesity in the United States increased from 42.4% in 2017-2018 to 44.9% in 2019-2020. The study suggests that the COVID-19 pandemic may have contributed to this increase in obesity rates.\n",
    "\n",
    "Furthermore, the pandemic has disproportionately affected certain populations, including those with lower incomes, who are more likely to have limited access to healthy foods and safe places to exercise. These disparities can exacerbate existing health inequities related to obesity. The COVID-19 pandemic has had a significant impact on obesity rates in the United States, highlighting the importance of maintaining healthy habits, even during times of stress and uncertainty.\n",
    "\n",
    "The goal of this project is to learn about how the COVID-19 pandemic and its associated lockdowns and cultural/social shifts have affected the physical health of average Americans. From the data we gather ourselves, as well as data provided by the *Centers for Disease Control and Prevention* (CDC) we will attempt to learn more about how Americans have a whole have been affected by the COVID-19 pandemic and which groups of Americans have been most affected. "
   ]
  },
  {
   "cell_type": "markdown",
   "id": "505bf416",
   "metadata": {},
   "source": [
    "## Research  topic\n",
    "\n",
    "Research Questions\n",
    "- population and sampling method\n",
    "\n",
    "The United States currently has a population of roughly 332.4 million. With such a large population and the standard 95% confidence level and 5% margin of area, a calculated ideal sample of 385 individuals should be used. \n",
    "\n",
    "- explicitly stated research question(s)\n",
    "\n",
    "In our efforts to quantify exactly how the COVID-19 pandemic has affected the average American we attempt to answer the following more specific questions:\n",
    "\n",
    "1. Has the pandemic and its associated lockdowns increased or decreased the average American’s daily physical activity, if at all. E.g. Average minutes of physical activity per day\n",
    "2. Has the pandemic and its associated lockdowns increased or decreased the health of the average American, if at all. E.g. Obesity statistics\n",
    "3. How has the pandemic and its associated lockdowns affected Americans by state. \n",
    "4. How has the pandemic and its associated lockdowns affected Americans by demographic. E.g. gender/race/socioeconomic strata\n",
    "\n",
    "- scope (should be appropriate for the assignment)\n",
    "\n",
    "domain concepts\n",
    "- clearly define important terms and concepts in the study"
   ]
  },
  {
   "cell_type": "markdown",
   "id": "e403bd7d",
   "metadata": {},
   "source": [
    "## Data collection / Survey design\n",
    "\n",
    "Data sources [5%]\n",
    "- briefly explain your survey methodology\n",
    "- briefly explain how you use external data in this project\n",
    "\n",
    "\n",
    "- where/how did you find it?\n",
    "- how/why was the data initially collected?\n",
    "- are the any ethical or legal issues?\n",
    "\n",
    "During the course of this survey project we will attempt to gather as much meaningful data as possible using the JISC survey, however we will also be using a secondary data source alongside our survey data to help complete the picture and allow us to draw further conclusions. \n",
    "\n",
    "We have chosen to use data provided by a United States federal agency called the Centers for Disease Control and Prevention (CDC). The CDC has gained prominence in the US since the beginning of the pandemic for its extensive work in testing and halting the spread of the coronavirus epidemic. However, the agency is more traditionally associated with surveying public health. Consequently the agency records an abundance of public health statistics that can be used to paint a picture of the average American’s health before, during, and after the pandemic. \n",
    "\n",
    "As with almost all government collected public data, the CDC data is made available on its website (https://chronicdata.cdc.gov) public use. For the purposes of this survey we will be combining several data sets that survey public health that cover a variety of topics. These include such areas as obesity rates, average physical exercise, nutritional gain, as well as public policy information. \n",
    "\n",
    "The CDC has in the past been involved with some controversies regarding its handling of the initial stages of the COVID-19 pandemic, along with some very public clashes with then-president Trump. However, these controversies have never been associated with the quality and validity of its data. The CDC exists fundamentally as an apolitical entity and its collected data can be reasonably assumed to be free of bias and to be of good quality. \n",
    "\n",
    "- critically evaluate your data, is the data trustworthy, and valid for your purposes?"
   ]
  },
  {
   "cell_type": "markdown",
   "id": "dbe63e92",
   "metadata": {},
   "source": [
    "## Data overview and pre-processing\n",
    "\n",
    "data types and pre-processing\n",
    "- brief description of variables and data types\n",
    "- describe and justify data cleaning and pre-processing (i.e. tidy data)\n",
    "- handing of missing or erroneous data\n",
    "\n",
    "data summary statistics\n",
    "- number of survey responses\n",
    "- number of observations in external data\n",
    "- summary of demographics and key variables\n",
    "- use of tables or easily understandable quantities in prose"
   ]
  },
  {
   "cell_type": "code",
   "execution_count": 2,
   "id": "e103967d",
   "metadata": {},
   "outputs": [],
   "source": [
    "# Import necessary packages for data processing and visualization\n",
    "\n",
    "import numpy as np\n",
    "import matplotlib.pyplot as plt\n",
    "import pandas as pd"
   ]
  },
  {
   "cell_type": "code",
   "execution_count": null,
   "id": "bbdba955",
   "metadata": {},
   "outputs": [],
   "source": [
    "# Import the raw data\n",
    "\n",
    "import "
   ]
  },
  {
   "cell_type": "markdown",
   "id": "60ce7779",
   "metadata": {},
   "source": [
    "## Analysis and results\n",
    "\n",
    "- visualise individual variables\n",
    "- visualise relationships between variables\n",
    "- aim for high quality explanatory visualisation that describe or tell a story about the behaviour or phenomena under investigation\n",
    "- marks will be awarded for (see rubric for more detail):\n",
    "- appropriate plots for variable data types\n",
    "- presentation quality\n",
    "- visual communication\n",
    "- methodical data visualisation process"
   ]
  },
  {
   "cell_type": "markdown",
   "id": "25aaf3cd",
   "metadata": {},
   "source": [
    "## Conclusions\n",
    "\n",
    "- summarise key findings\n",
    "- future directions\n",
    "- evaluate your process and visualisations\n",
    "- things to improve and/or pointers to future research"
   ]
  },
  {
   "cell_type": "markdown",
   "id": "22daf0a0",
   "metadata": {},
   "source": [
    "## References"
   ]
  },
  {
   "cell_type": "markdown",
   "id": "09a7a142",
   "metadata": {},
   "source": [
    "## Appendices"
   ]
  },
  {
   "cell_type": "markdown",
   "id": "7920ccd0",
   "metadata": {
    "editable": false
   },
   "source": [
    "## Word Count\n",
    "\n",
    "The following code will count the number of words in Markdown cells. Code cells are not included.\n",
    "\n",
    "- `Main word count` is the number of words in the main body of the text, *excluding* references or appendices.\n",
    "- `References and appendices word count` is the number of words in any references or appendices.\n",
    "\n",
    "Only `Main word count` relates to the assignment word limit. There is no limit to the number of words that can be included in references or appendices. Please note that appendices should only be used to provide context or supporting information. *No marks will be directly awarded for material submitted in appendices*.\n",
    "\n",
    "Important:\n",
    "\n",
    "- Please do not modify the word count code!\n",
    "- To exclude references from your word count **you must** have a cell that starts with the text `## References`. Everything below this cell will not count towards the main word count.\n",
    "- If you are submitting additional material as appendices **you must** have a cell that starts with the text `## Appendices`. Everything below this cell will not count towards the main word count. If you do not have any appendices you can delete the `## Appendices` cell.\n",
    "- Code comments should only be used to explain details of the implementation, not for discussing your findings. All analysis commentary **must** be written in Markdown cells. *No marks will be awarded for analysis discussion submitted as comments in code cells*."
   ]
  },
  {
   "cell_type": "code",
   "execution_count": 1,
   "id": "4a0d931b",
   "metadata": {
    "editable": false,
    "tags": []
   },
   "outputs": [
    {
     "data": {
      "application/javascript": [
       "\n",
       "// Run this cell to update your word count.\n",
       "\n",
       "function wordcount() {\n",
       "    let wordCount = 0\n",
       "    let extraCount = 0\n",
       "    let mainBody = true\n",
       "\n",
       "    let cells = Jupyter.notebook.get_cells()\n",
       "    cells.forEach((cell) => {\n",
       "        if (cell.cell_type == 'markdown') {\n",
       "            let text = cell.get_text()\n",
       "            // Stop counting as main body when get to References or Appendices.\n",
       "            if (text.startsWith('## References') ||\n",
       "                text.startsWith('## Appendices')) {\n",
       "                mainBody = false\n",
       "            }\n",
       "            if (text.startsWith('## Word Count')) {\n",
       "                text = ''\n",
       "            }\n",
       "            if (text) {\n",
       "                let words = text.toLowerCase().match(/\\b[a-z\\d]+\\b/g)\n",
       "                if (words) {\n",
       "                    let cellCount = words.length\n",
       "                    if (mainBody) {\n",
       "                        wordCount += cellCount\n",
       "                    } else {\n",
       "                        extraCount += cellCount\n",
       "                    }\n",
       "                }\n",
       "            }\n",
       "        }\n",
       "    })\n",
       "    return [wordCount, extraCount]\n",
       "}\n",
       "\n",
       "let wc = wordcount()\n",
       "element.append(`Main word count: ${wc[0]} (References and appendices word count: ${wc[1]})`)\n"
      ],
      "text/plain": [
       "<IPython.core.display.Javascript object>"
      ]
     },
     "metadata": {},
     "output_type": "display_data"
    }
   ],
   "source": [
    "%%js\n",
    "\n",
    "// Run this cell to update your word count.\n",
    "\n",
    "function wordcount() {\n",
    "    let wordCount = 0\n",
    "    let extraCount = 0\n",
    "    let mainBody = true\n",
    "\n",
    "    let cells = Jupyter.notebook.get_cells()\n",
    "    cells.forEach((cell) => {\n",
    "        if (cell.cell_type == 'markdown') {\n",
    "            let text = cell.get_text()\n",
    "            // Stop counting as main body when get to References or Appendices.\n",
    "            if (text.startsWith('## References') ||\n",
    "                text.startsWith('## Appendices')) {\n",
    "                mainBody = false\n",
    "            }\n",
    "            if (text.startsWith('## Word Count')) {\n",
    "                text = ''\n",
    "            }\n",
    "            if (text) {\n",
    "                let words = text.toLowerCase().match(/\\b[a-z\\d]+\\b/g)\n",
    "                if (words) {\n",
    "                    let cellCount = words.length\n",
    "                    if (mainBody) {\n",
    "                        wordCount += cellCount\n",
    "                    } else {\n",
    "                        extraCount += cellCount\n",
    "                    }\n",
    "                }\n",
    "            }\n",
    "        }\n",
    "    })\n",
    "    return [wordCount, extraCount]\n",
    "}\n",
    "\n",
    "let wc = wordcount()\n",
    "element.append(`Main word count: ${wc[0]} (References and appendices word count: ${wc[1]})`)"
   ]
  }
 ],
 "metadata": {
  "celltoolbar": "Edit Metadata",
  "kernelspec": {
   "display_name": "Python 3 (ipykernel)",
   "language": "python",
   "name": "python3"
  },
  "language_info": {
   "codemirror_mode": {
    "name": "ipython",
    "version": 3
   },
   "file_extension": ".py",
   "mimetype": "text/x-python",
   "name": "python",
   "nbconvert_exporter": "python",
   "pygments_lexer": "ipython3",
   "version": "3.9.11"
  }
 },
 "nbformat": 4,
 "nbformat_minor": 5
}
