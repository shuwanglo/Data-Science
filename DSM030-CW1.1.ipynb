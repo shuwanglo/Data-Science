{
 "cells": [
  {
   "cell_type": "markdown",
   "metadata": {},
   "source": [
    "# Feature Engineering CW\n",
    "\n",
    "\n",
    "\n",
    "## All steps must be done programmatically"
   ]
  },
  {
   "cell_type": "markdown",
   "metadata": {},
   "source": [
    "### Import required packages"
   ]
  },
  {
   "cell_type": "code",
   "execution_count": 644,
   "metadata": {},
   "outputs": [],
   "source": [
    "# to handle datasets\n",
    "import pandas as pd\n",
    "import numpy as np\n",
    "\n",
    "# to visualise al the columns in the dataframe\n",
    "pd.pandas.set_option('display.max_columns', None)\n",
    "# suppress some warning\n",
    "pd.options.mode.chained_assignment = None  # default='warn'\n",
    "\n",
    "# Add Imports here\n",
    "from scipy.stats import shapiro\n",
    "from scipy.stats import normaltest\n",
    "from sklearn.model_selection import train_test_split\n",
    "from sklearn.preprocessing import MinMaxScaler\n"
   ]
  },
  {
   "cell_type": "markdown",
   "metadata": {},
   "source": [
    "### Load the data and Plot a Histogram of the SalePrice column"
   ]
  },
  {
   "cell_type": "code",
   "execution_count": 645,
   "metadata": {},
   "outputs": [
    {
     "data": {
      "text/plain": [
       "array([[<AxesSubplot:title={'center':'SalePrice'}>]], dtype=object)"
      ]
     },
     "execution_count": 645,
     "metadata": {},
     "output_type": "execute_result"
    },
    {
     "data": {
      "image/png": "[encoded data removed]",
      "text/plain": [
       "<Figure size 432x288 with 1 Axes>"
      ]
     },
     "metadata": {
      "needs_background": "light"
     },
     "output_type": "display_data"
    }
   ],
   "source": [
    "# load dataset\n",
    "data = pd.read_csv(r'house-price-data.csv')\n",
    "\n",
    "data.hist(column='SalePrice',  bins = 250)"
   ]
  },
  {
   "cell_type": "markdown",
   "metadata": {},
   "source": [
    "### 1- The SalePrice column is not normally distributed (i.e. not Gaussian), prove this by running a statistical test and obtaining and interpreting the p-value (you can use if else to check the p-value and interpret it). (5 Marks)"
   ]
  },
  {
   "cell_type": "code",
   "execution_count": 646,
   "metadata": {},
   "outputs": [
    {
     "name": "stdout",
     "output_type": "stream",
     "text": [
      "Statistics=0.870, p=0.000\n",
      "Sample is not Gaussian (Shapiro-Wilk Test)\n",
      "Statistics=610.836, p=0.000\n",
      "Sample is not Gaussian (K^2 Test)\n"
     ]
    }
   ],
   "source": [
    "# Test to check normality of the SalePrice column\n",
    "\n",
    "# Normality test using Shapiro-Wilk Test\n",
    "stat, p = shapiro(data.SalePrice)\n",
    "print('Statistics=%.3f, p=%.3f' % (stat, p))\n",
    "\n",
    "alpha = 0.05\n",
    "if p > alpha:\n",
    "    print('Sample is Gaussian (Shapiro-Wilk Test)')\n",
    "else:\n",
    "    print('Sample is not Gaussian (Shapiro-Wilk Test)')\n",
    "\n",
    "# Normality test using K^2 Test \n",
    "stat, p = normaltest(data.SalePrice)\n",
    "print('Statistics=%.3f, p=%.3f' % (stat, p))\n",
    "\n",
    "alpha = 0.05\n",
    "if p > alpha:\n",
    "    print('Sample is Gaussian (K^2 Test)')\n",
    "else:\n",
    "    print('Sample is not Gaussian (K^2 Test)')"
   ]
  },
  {
   "cell_type": "markdown",
   "metadata": {},
   "source": [
    "### Split data into Train and Test sub-datasets\n",
    "### Do not change this code"
   ]
  },
  {
   "cell_type": "code",
   "execution_count": 647,
   "metadata": {},
   "outputs": [
    {
     "data": {
      "text/plain": [
       "((1022, 54), (438, 54))"
      ]
     },
     "execution_count": 647,
     "metadata": {},
     "output_type": "execute_result"
    }
   ],
   "source": [
    "### Split data into train and test sets \n",
    "X = data.drop(columns=['SalePrice'])\n",
    "y = data['SalePrice']\n",
    "\n",
    "X_train, X_test, y_train, y_test = train_test_split(\n",
    "    X, # features or predictive variables\n",
    "    y, # target\n",
    "    test_size=0.3, # portion of dataset to allocate to test set\n",
    "    random_state=10, # we are setting the seed here\n",
    ")\n",
    "\n",
    "X_train.shape, X_test.shape"
   ]
  },
  {
   "cell_type": "markdown",
   "metadata": {},
   "source": [
    "### 2. Create a list of all categorical variables (by checking their type in the original dataset). (2 marks)\n",
    "Correct solution says there are 19 of them."
   ]
  },
  {
   "cell_type": "code",
   "execution_count": 649,
   "metadata": {},
   "outputs": [
    {
     "data": {
      "text/plain": [
       "Index(['Alley', 'LandContour', 'BldgType', 'HouseStyle', 'RoofStyle',\n",
       "       'ExterQual', 'ExterCond', 'BsmtQual', 'BsmtCond', 'BsmtExposure',\n",
       "       'BsmtFinType1', 'BsmtFinType2', 'HeatingQC', 'KitchenQual',\n",
       "       'FireplaceQu', 'GarageFinish', 'GarageQual', 'GarageCond', 'Fence'],\n",
       "      dtype='object')"
      ]
     },
     "execution_count": 649,
     "metadata": {},
     "output_type": "execute_result"
    }
   ],
   "source": [
    "# let's identify the categorical variables\n",
    "# we will capture those of type object\n",
    "cat_var_names = X_train.select_dtypes(include=['object']).columns\n",
    "cat_var_names\n",
    "\n",
    "# number of categorical variables\n",
    "len(cat_var_names)"
   ]
  },
  {
   "cell_type": "markdown",
   "metadata": {},
   "source": [
    "### 3. Using the training set (X_train) Create a list of all categorical variables that contain missing data and print percentage of missing values per variable. (3 marks)"
   ]
  },
  {
   "cell_type": "code",
   "execution_count": 654,
   "metadata": {
    "scrolled": true
   },
   "outputs": [
    {
     "data": {
      "text/plain": [
       "Alley           93.444227\n",
       "Fence           80.528376\n",
       "FireplaceQu     46.868885\n",
       "GarageFinish     5.381605\n",
       "GarageQual       5.381605\n",
       "GarageCond       5.381605\n",
       "BsmtQual         2.544031\n",
       "BsmtCond         2.544031\n",
       "BsmtExposure     2.544031\n",
       "BsmtFinType1     2.544031\n",
       "BsmtFinType2     2.544031\n",
       "dtype: float64"
      ]
     },
     "execution_count": 654,
     "metadata": {},
     "output_type": "execute_result"
    }
   ],
   "source": [
    "# make a list of the categorical variables that contain missing values\n",
    "cat_vars = X_train.select_dtypes(include=['object'])\n",
    "\n",
    "# print percentage of missing values per variable\n",
    "cat_vars_missing = cat_vars[['Alley', \n",
    "                             'Fence', \n",
    "                             'FireplaceQu', \n",
    "                             'GarageFinish', \n",
    "                             'GarageQual', \n",
    "                             'GarageCond', \n",
    "                             'BsmtQual', \n",
    "                             'BsmtCond', \n",
    "                             'BsmtExposure', \n",
    "                             'BsmtFinType1', \n",
    "                             'BsmtFinType2']]\n",
    "\n",
    "percent_cat_var_missing = cat_vars_missing.isnull().sum()/len(cat_vars_missing)*100\n",
    "percent_cat_var_missing"
   ]
  },
  {
   "cell_type": "markdown",
   "metadata": {},
   "source": [
    "### 4. Using the result of the previous step: For categorical variables with more than 10% of data missing, replace missing data with the word 'Missing', in other variables replace the missing data with the most frequent category in  the training set (Apply the replacement to X_train and X_test and make sure it is based on the results you have obtained from the training set). (5 marks)"
   ]
  },
  {
   "cell_type": "code",
   "execution_count": 657,
   "metadata": {},
   "outputs": [],
   "source": [
    "# variables to impute with the string missing\n",
    "with_string_missing = cat_vars_missing[['Alley', \n",
    "     'FireplaceQu',  \n",
    "     'Fence']]\n",
    "\n",
    "# variables to impute with the most frequent category\n",
    "with_frequent_category = cat_vars_missing[['BsmtQual', \n",
    "     'BsmtCond',  \n",
    "     'BsmtExposure', \n",
    "     'BsmtFinType1', \n",
    "     'BsmtFinType2', \n",
    "     'GarageFinish', \n",
    "     'GarageQual',\n",
    "     'GarageCond']]\n"
   ]
  },
  {
   "cell_type": "code",
   "execution_count": null,
   "metadata": {},
   "outputs": [],
   "source": [
    "print(with_string_missing)\n",
    "print(with_frequent_category)"
   ]
  },
  {
   "cell_type": "code",
   "execution_count": 663,
   "metadata": {},
   "outputs": [],
   "source": [
    "# replace missing values in X_train and X_test with new label: \"Missing\"\n",
    "X_train_mod1 = X_train\n",
    "X_train_mod1[['Alley', \n",
    "                'FireplaceQu', \n",
    "                'Fence']] = X_train[['Alley', \n",
    "                                     'FireplaceQu', \n",
    "                                     'Fence']].fillna('Missing')\n",
    "X_test_mod1 = X_test\n",
    "X_test_mod1[['Alley', \n",
    "               'FireplaceQu', \n",
    "               'Fence']] = X_test[['Alley', \n",
    "                                   'FireplaceQu', \n",
    "                                   'Fence']].fillna('Missing')\n"
   ]
  },
  {
   "cell_type": "code",
   "execution_count": 661,
   "metadata": {},
   "outputs": [],
   "source": [
    "# replace missing values in X_train and X_test with the mode of each variable\n",
    "# data.fillna(data.median(), inplace=True)\n",
    "dic1 = {'BsmtQual':X_train_mod1['BsmtQual'].mode()[0],\n",
    "       'BsmtCond':X_train_mod1['BsmtCond'].mode()[0],\n",
    "       'BsmtExposure':X_train_mod1['BsmtExposure'].mode()[0],\n",
    "       'BsmtFinType1':X_train_mod1['BsmtFinType1'].mode()[0],\n",
    "       'BsmtFinType2':X_train_mod1['BsmtFinType2'].mode()[0],\n",
    "       'GarageFinish':X_train_mod1['GarageFinish'].mode()[0],\n",
    "       'GarageQual':X_train_mod1['GarageQual'].mode()[0],\n",
    "       'GarageCond':X_train_mod1['GarageCond'].mode()[0],\n",
    "       }\n",
    "X_train_mod2 = X_train_mod1.fillna(value=dic1)\n",
    "\n",
    "dic2 = {'BsmtQual':X_test_mod1['BsmtQual'].mode()[0],\n",
    "       'BsmtCond':X_test_mod1['BsmtCond'].mode()[0],\n",
    "       'BsmtExposure':X_test_mod1['BsmtExposure'].mode()[0],\n",
    "       'BsmtFinType1':X_test_mod1['BsmtFinType1'].mode()[0],\n",
    "       'BsmtFinType2':X_test_mod1['BsmtFinType2'].mode()[0],\n",
    "       'GarageFinish':X_test_mod1['GarageFinish'].mode()[0],\n",
    "       'GarageQual':X_test_mod1['GarageQual'].mode()[0],\n",
    "       'GarageCond':X_test_mod1['GarageCond'].mode()[0],\n",
    "       }\n",
    "X_test_mod2 = X_test_mod1.fillna(value=dic2)\n"
   ]
  },
  {
   "cell_type": "code",
   "execution_count": 664,
   "metadata": {},
   "outputs": [],
   "source": [
    "X_train_mod2.apply??"
   ]
  },
  {
   "cell_type": "code",
   "execution_count": 668,
   "metadata": {},
   "outputs": [
    {
     "data": {
      "text/plain": [
       "Alley           0\n",
       "LandContour     0\n",
       "BldgType        0\n",
       "HouseStyle      0\n",
       "RoofStyle       0\n",
       "ExterQual       0\n",
       "ExterCond       0\n",
       "BsmtQual        0\n",
       "BsmtCond        0\n",
       "BsmtExposure    0\n",
       "BsmtFinType1    0\n",
       "BsmtFinType2    0\n",
       "HeatingQC       0\n",
       "KitchenQual     0\n",
       "FireplaceQu     0\n",
       "GarageFinish    0\n",
       "GarageQual      0\n",
       "GarageCond      0\n",
       "Fence           0\n",
       "dtype: int64"
      ]
     },
     "execution_count": 668,
     "metadata": {},
     "output_type": "execute_result"
    }
   ],
   "source": [
    "# check that we have no missing information in the engineered variables\n",
    "X_train_mod2.select_dtypes(include=['object']).isnull().sum()\n",
    "X_test_mod2.select_dtypes(include=['object']).isnull().sum()"
   ]
  },
  {
   "cell_type": "markdown",
   "metadata": {},
   "source": [
    "### 5. Create a list of all numerical variables (do not include SalePrice). (2 marks)\n",
    "Correct solution says there are 35 of them."
   ]
  },
  {
   "cell_type": "code",
   "execution_count": 671,
   "metadata": {},
   "outputs": [
    {
     "data": {
      "text/plain": [
       "35"
      ]
     },
     "execution_count": 671,
     "metadata": {},
     "output_type": "execute_result"
    }
   ],
   "source": [
    "# now let's identify the numerical variables\n",
    "\n",
    "num_var_names = X_train.select_dtypes(include=['int64', 'float64']).columns\n",
    "num_var_names\n",
    "\n",
    "# number of numerical variables\n",
    "len(num_var_names)"
   ]
  },
  {
   "cell_type": "markdown",
   "metadata": {},
   "source": [
    "### 6. Create a list of all numerical variables that contain missing data and print out the percentage of missing values per variable (use the training data). (3 marks)"
   ]
  },
  {
   "cell_type": "code",
   "execution_count": 672,
   "metadata": {},
   "outputs": [
    {
     "data": {
      "text/plain": [
       "LotFrontage    17.318982\n",
       "GarageYrBlt     5.381605\n",
       "MasVnrArea      0.489237\n",
       "dtype: float64"
      ]
     },
     "execution_count": 672,
     "metadata": {},
     "output_type": "execute_result"
    }
   ],
   "source": [
    "# make a list with the numerical variables that contain missing values\n",
    "num_vars = X_train.select_dtypes(include=['int64', 'float64'])\n",
    "\n",
    "# print percentage of missing values per variable\n",
    "num_vars_missing = num_vars[['LotFrontage', 'GarageYrBlt', 'MasVnrArea']]\n",
    "\n",
    "percent_num_var_missing = num_vars_missing.isnull().sum()/len(num_vars_missing)*100\n",
    "percent_num_var_missing\n"
   ]
  },
  {
   "cell_type": "markdown",
   "metadata": {},
   "source": [
    "### 7. Using the result of the previous step: For numerical variables with less than 15% of data missing, replace missing data with the mean of the variable, in other variables replace the missing data with the median of the variable in the training set (Apply the replacement to X_train and X_test and make sure it is based on the results you have obtained from the training set).     (5 marks)"
   ]
  },
  {
   "cell_type": "code",
   "execution_count": 673,
   "metadata": {},
   "outputs": [],
   "source": [
    "# variables to impute with the mean\n",
    "with_mean = num_vars_missing[['MasVnrArea', 'GarageYrBlt']]\n",
    "\n",
    "# variables to impute with the median\n",
    "with_median = num_vars_missing[['LotFrontage']]\n"
   ]
  },
  {
   "cell_type": "code",
   "execution_count": 675,
   "metadata": {},
   "outputs": [],
   "source": [
    "# replace missing values as we described above\n",
    "dic3 = {'LotFrontage':X_train_mod2['LotFrontage'].mean(),\n",
    "       'MasVnrArea':X_train_mod2['MasVnrArea'].median(),\n",
    "       'GarageYrBlt':X_train_mod2['GarageYrBlt'].median(),\n",
    "       }\n",
    "X_train_mod3 = X_train_mod2.fillna(value=dic3)\n",
    "\n",
    "dic4 = {'LotFrontage':X_test_mod2['LotFrontage'].mean(),\n",
    "       'MasVnrArea':X_test_mod2['MasVnrArea'].median(),\n",
    "       'GarageYrBlt':X_test_mod2['GarageYrBlt'].median(),\n",
    "       }\n",
    "X_test_mod3 = X_test_mod2.fillna(value=dic4)\n",
    "        "
   ]
  },
  {
   "cell_type": "code",
   "execution_count": 676,
   "metadata": {},
   "outputs": [
    {
     "data": {
      "text/plain": [
       "LotFrontage      0\n",
       "LotArea          0\n",
       "OverallQual      0\n",
       "OverallCond      0\n",
       "YearBuilt        0\n",
       "YearRemodAdd     0\n",
       "MasVnrArea       0\n",
       "BsmtFinSF1       0\n",
       "BsmtFinSF2       0\n",
       "BsmtUnfSF        0\n",
       "TotalBsmtSF      0\n",
       "1stFlrSF         0\n",
       "2ndFlrSF         0\n",
       "LowQualFinSF     0\n",
       "GrLivArea        0\n",
       "BsmtFullBath     0\n",
       "BsmtHalfBath     0\n",
       "FullBath         0\n",
       "HalfBath         0\n",
       "BedroomAbvGr     0\n",
       "KitchenAbvGr     0\n",
       "TotRmsAbvGrd     0\n",
       "Fireplaces       0\n",
       "GarageYrBlt      0\n",
       "GarageCars       0\n",
       "GarageArea       0\n",
       "WoodDeckSF       0\n",
       "OpenPorchSF      0\n",
       "EnclosedPorch    0\n",
       "3SsnPorch        0\n",
       "ScreenPorch      0\n",
       "PoolArea         0\n",
       "MiscVal          0\n",
       "MoSold           0\n",
       "YrSold           0\n",
       "dtype: int64"
      ]
     },
     "execution_count": 676,
     "metadata": {},
     "output_type": "execute_result"
    }
   ],
   "source": [
    "# check that we have no more missing values in the engineered variables\n",
    "# X_test[vars_with_na].isnull().sum()\n",
    "\n",
    "X_test_mod3.select_dtypes(include=['int64', 'float64']).isnull().sum()"
   ]
  },
  {
   "cell_type": "markdown",
   "metadata": {},
   "source": [
    "### 8. In the train and test sets, replace the values of variables 'YearBuilt', 'YearRemodAdd' and 'GarageYrBlt' with the time elapsed between them and the year in which the house was sold 'YrSold' and then drop the  'YrSold' column (5 marks)"
   ]
  },
  {
   "cell_type": "code",
   "execution_count": 677,
   "metadata": {},
   "outputs": [],
   "source": [
    "# sum??\n",
    "X_train_mod3['YrsBuilt'] = X_train_mod3['YrSold'] - X_train_mod3['YearBuilt']\n",
    "X_train_mod3['YrsRemodAdd'] = X_train_mod3['YrSold'] - X_train_mod3['YearRemodAdd']\n",
    "X_train_mod3['YrsGarageBlt'] = X_train_mod3['YrSold'] - X_train_mod3['GarageYrBlt']\n",
    "\n",
    "X_test_mod3['YrsBuilt'] = X_test_mod3['YrSold'] - X_test_mod3['YearBuilt']\n",
    "X_test_mod3['YrsRemodAdd'] = X_test_mod3['YrSold'] - X_test_mod3['YearRemodAdd']\n",
    "X_test_mod3['YrsGarageBlt'] = X_test_mod3['YrSold'] - X_test_mod3['GarageYrBlt']\n"
   ]
  },
  {
   "cell_type": "code",
   "execution_count": 678,
   "metadata": {},
   "outputs": [
    {
     "name": "stderr",
     "output_type": "stream",
     "text": [
      "/var/folders/dc/yclmmxqs4zdd3nghyrp02hq40000gn/T/ipykernel_40793/2468911301.py:2: FutureWarning: In a future version of pandas all arguments of DataFrame.drop except for the argument 'labels' will be keyword-only.\n",
      "  X_train_mod4 = X_train_mod3.drop(['YrSold'], 1)\n",
      "/var/folders/dc/yclmmxqs4zdd3nghyrp02hq40000gn/T/ipykernel_40793/2468911301.py:3: FutureWarning: In a future version of pandas all arguments of DataFrame.drop except for the argument 'labels' will be keyword-only.\n",
      "  X_test_mod4 = X_test_mod3.drop(['YrSold'], 1)\n"
     ]
    }
   ],
   "source": [
    "# now we drop YrSold\n",
    "X_train_mod4 = X_train_mod3.drop(['YrSold'], 1)\n",
    "X_test_mod4 = X_test_mod3.drop(['YrSold'], 1)\n"
   ]
  },
  {
   "cell_type": "markdown",
   "metadata": {},
   "source": [
    "### 9. Apply mappings to categorical variables that have an order (5 marks)\n",
    "\n",
    "Some of the categorical variables have values with an assigned order (in total there should be 14 of them), related to quality (For more information, check the data description file). This means, we can replace categories by numbers to determine quality. For example, values in the 'BsmtExposure' can be mapped as follows: 'No' can be mapped to 1, 'Mn' can be mapped to 2, 'Av' can be mapped to 3 and 'Gd' can be mapped to 4. \n",
    "\n",
    "One way of doing this is to manually create mappings similar to the example given. Each mapping can be saved as a Python dictionary and used to perform the actual mapping to transform the described variables from categorical to numerical.\n",
    "\n",
    "To Make it easier for you, here are groups of variables that have the same mappings (Hint: you can map both categories 'Missing' and 'NA' to 0): \n",
    "\n",
    "- The following variable groups have the same mapping: \n",
    "    - ['ExterQual', 'ExterCond', 'BsmtQual', 'BsmtCond', 'HeatingQC', 'KitchenQual', 'FireplaceQu','GarageQual', 'GarageCond']\n",
    "    - ['BsmtFinType1', 'BsmtFinType2']\n",
    "\n",
    "- Each of the following variables has its own mapping: 'BsmtExposure', 'GarageFinish', 'Fence'"
   ]
  },
  {
   "cell_type": "code",
   "execution_count": 679,
   "metadata": {},
   "outputs": [],
   "source": [
    "# re-map strings to numbers, which determine quality\n",
    "\n",
    "qual_mappings = {'Po': 1, 'Fa': 2, 'TA': 3, 'Gd': 4, 'Ex': 5, 'Missing': 0, 'NA': 0}\n",
    "\n",
    "qual_vars = ['ExterQual', 'ExterCond', 'BsmtQual', 'BsmtCond',\n",
    "             'HeatingQC', 'KitchenQual', 'FireplaceQu',\n",
    "             'GarageQual', 'GarageCond'\n",
    "            ]\n",
    "\n",
    "\n",
    "## Loop through the variables and apply the mapping here\n",
    "# Apply mapping on the train and test sets\n",
    "\n",
    "X_train_mod5 = X_train_mod4.replace({'ExterQual': qual_mappings,\n",
    "                                     'ExterCond': qual_mappings, \n",
    "                                     'BsmtQual': qual_mappings,\n",
    "                                     'BsmtCond': qual_mappings,\n",
    "                                     'HeatingQC': qual_mappings,\n",
    "                                     'KitchenQual': qual_mappings,\n",
    "                                     'FireplaceQu': qual_mappings,\n",
    "                                     'GarageQual': qual_mappings,\n",
    "                                     'GarageCond': qual_mappings,})\n",
    "\n",
    "X_test_mod5 = X_test_mod4.replace({'ExterQual': qual_mappings,\n",
    "                                    'ExterCond': qual_mappings, \n",
    "                                    'BsmtQual': qual_mappings,\n",
    "                                    'BsmtCond': qual_mappings,\n",
    "                                    'HeatingQC': qual_mappings,\n",
    "                                    'KitchenQual': qual_mappings,\n",
    "                                    'FireplaceQu': qual_mappings,\n",
    "                                    'GarageQual': qual_mappings,\n",
    "                                    'GarageCond': qual_mappings,})\n"
   ]
  },
  {
   "cell_type": "code",
   "execution_count": 680,
   "metadata": {},
   "outputs": [],
   "source": [
    "exposure_mappings = {'No': 1, 'Mn': 2, 'Av': 3, 'Gd': 4}\n",
    "\n",
    "var = 'BsmtExposure'\n",
    "\n",
    "## Apply the mapping here\n",
    "# Apply mapping on the train and test sets\n",
    "\n",
    "X_train_mod6 = X_train_mod5.replace({'BsmtExposure': exposure_mappings})\n",
    "X_test_mod6 = X_test_mod5.replace({'BsmtExposure': exposure_mappings})\n"
   ]
  },
  {
   "cell_type": "code",
   "execution_count": 681,
   "metadata": {},
   "outputs": [],
   "source": [
    "finish_mappings = {'Missing': 0, 'NA': 0, 'Unf': 1, 'LwQ': 2, 'Rec': 3, 'BLQ': 4, 'ALQ': 5, 'GLQ': 6}\n",
    "\n",
    "finish_vars = ['BsmtFinType1', 'BsmtFinType2']\n",
    "\n",
    "## Loop through the variables and apply the mapping here\n",
    "# Apply mapping on the train and test sets\n",
    "\n",
    "X_train_mod7 = X_train_mod6.replace({'BsmtFinType1': finish_mappings,\n",
    "                                     'BsmtFinType2': finish_mappings})\n",
    "X_test_mod7 = X_test_mod6.replace({'BsmtFinType1': finish_mappings,\n",
    "                                   'BsmtFinType2': finish_mappings})\n"
   ]
  },
  {
   "cell_type": "code",
   "execution_count": 682,
   "metadata": {},
   "outputs": [],
   "source": [
    "garage_mappings = {'Missing': 0, 'NA': 0, 'Unf': 1, 'RFn': 2, 'Fin': 3}\n",
    "\n",
    "var = 'GarageFinish'\n",
    "\n",
    "## Apply the mapping here\n",
    "# Apply mapping on the train and test sets\n",
    "\n",
    "X_train_mod8 = X_train_mod7.replace({'GarageFinish': garage_mappings})\n",
    "X_test_mod8 = X_test_mod7.replace({'GarageFinish': garage_mappings})\n"
   ]
  },
  {
   "cell_type": "code",
   "execution_count": 683,
   "metadata": {},
   "outputs": [],
   "source": [
    "fence_mappings = {'Missing': 0, 'NA': 0, 'MnWw': 1, 'GdWo': 2, 'MnPrv': 3, 'GdPrv': 4}\n",
    "\n",
    "var = 'Fence'\n",
    "\n",
    "## Apply the mapping here\n",
    "# Apply mapping on the train and test sets\n",
    "\n",
    "X_train_mod9 = X_train_mod8.replace({'Fence': fence_mappings})\n",
    "X_test_mod9 = X_test_mod8.replace({'Fence': fence_mappings})\n"
   ]
  },
  {
   "cell_type": "code",
   "execution_count": 684,
   "metadata": {},
   "outputs": [
    {
     "data": {
      "text/plain": [
       "[]"
      ]
     },
     "execution_count": 684,
     "metadata": {},
     "output_type": "execute_result"
    }
   ],
   "source": [
    "# check absence of na in the train set\n",
    "[var for var in X_train_mod9.columns if X_train_mod9[var].isnull().sum() > 0]\n"
   ]
  },
  {
   "cell_type": "code",
   "execution_count": null,
   "metadata": {},
   "outputs": [],
   "source": [
    "X_train_mod9.head()"
   ]
  },
  {
   "cell_type": "markdown",
   "metadata": {},
   "source": [
    "### 10. Replace Rare Labels with 'Rare' (5 marks)\n",
    "\n",
    "For the remaining five categorical variables (the variables that you did not apply value mappings to, they should be five variables), you will need to group those categories that are present in less than 1% of the observations in the training set. That is, all values of categorical variables that are shared by less than 1% of houses in the training set will be replaced by the string \"Rare\" in both the training and test set. \n",
    "\n",
    "- Find rare labels in the remaining categorical variables and replace them with the category 'Rare'.\n",
    "- Rare labels are those categories that only appear in a small percentage of the observations (in our case in < 1%).\n",
    "- If you look at unique values in a categorical variable in the training set and count how many times each of the unique values appear in the variable, you can compute the percentage of each unique value by dividing its count by the total number of observations.\n",
    "- Remember to make the computions using the training set and replacement in both training and test sets."
   ]
  },
  {
   "cell_type": "code",
   "execution_count": 686,
   "metadata": {},
   "outputs": [
    {
     "data": {
      "text/plain": [
       "5"
      ]
     },
     "execution_count": 686,
     "metadata": {},
     "output_type": "execute_result"
    }
   ],
   "source": [
    "# capture all quality variables\n",
    "\n",
    "qual_vars  = qual_vars + finish_vars + ['BsmtExposure','GarageFinish','Fence']\n",
    "\n",
    "# capture the remaining categorical variables\n",
    "# (those that we did not re-map)\n",
    "\n",
    "cat_others = [\n",
    "    var for var in cat_vars if var not in qual_vars\n",
    "]\n",
    "\n",
    "len(cat_others)\n"
   ]
  },
  {
   "cell_type": "code",
   "execution_count": 687,
   "metadata": {},
   "outputs": [],
   "source": [
    "## Loop through the variables and apply the replacement here\n",
    "# Apply replacement on the train and test sets\n",
    "\n",
    "X_train_mod9.groupby(['Alley']).count()/len(X_train_mod9)*100\n",
    "X_train_mod9.groupby(['LandContour']).count()/len(X_train_mod9)*100\n",
    "X_train_mod9.groupby(['BldgType']).count()/len(X_train_mod9)*100\n",
    "X_train_mod9.groupby(['HouseStyle']).count()/len(X_train_mod9)*100\n",
    "X_train_mod9.groupby(['RoofStyle']).count()/len(X_train_mod9)*100\n",
    "\n",
    "HouseStyle_mappings = {'1.5Unf': 'Rare', \n",
    "                       '2.5Fin': 'Rare',\n",
    "                       '2.5Unf': 'Rare'}\n",
    "\n",
    "RoofStyle_mappings = {'Flat': 'Rare', \n",
    "                      'Gambrel': 'Rare',\n",
    "                      'Mansard': 'Rare',\n",
    "                      'Shed': 'Rare'}\n",
    "\n",
    "X_train_mod10 = X_train_mod9.replace({'HouseStyle': HouseStyle_mappings,\n",
    "                                      'RoofStyle': RoofStyle_mappings})\n",
    "\n",
    "X_test_mod10 = X_test_mod9.replace({'HouseStyle': HouseStyle_mappings,\n",
    "                                      'RoofStyle': RoofStyle_mappings})"
   ]
  },
  {
   "cell_type": "code",
   "execution_count": null,
   "metadata": {},
   "outputs": [],
   "source": [
    "X_train_mod9.groupby(['Alley']).count()/len(X_train_mod9)*100"
   ]
  },
  {
   "cell_type": "markdown",
   "metadata": {},
   "source": [
    "### 11. One hot encoding of categorical variables (5 marks)\n",
    "Perform one hot encoding to transform the previous five categorical variables into binary variables. Make sure you do it correctly for both the training and testing sets. After this, remember to drop the original five categorical variables (the ones with the strings) from the training and test after the encoding."
   ]
  },
  {
   "cell_type": "code",
   "execution_count": 689,
   "metadata": {},
   "outputs": [
    {
     "name": "stderr",
     "output_type": "stream",
     "text": [
      "/var/folders/dc/yclmmxqs4zdd3nghyrp02hq40000gn/T/ipykernel_40793/2896719710.py:18: FutureWarning: In a future version of pandas all arguments of DataFrame.drop except for the argument 'labels' will be keyword-only.\n",
      "  X_train_mod12 = X_train_mod11.drop(['Alley',\n",
      "/var/folders/dc/yclmmxqs4zdd3nghyrp02hq40000gn/T/ipykernel_40793/2896719710.py:38: FutureWarning: In a future version of pandas all arguments of DataFrame.drop except for the argument 'labels' will be keyword-only.\n",
      "  X_test_mod12 = X_test_mod11.drop(['Alley',\n"
     ]
    }
   ],
   "source": [
    "## Loop through the variables and apply the one-hot encoding here\n",
    "# Apply encoding on the train and test sets\n",
    "# Pay attention and make sure you do it correctly\n",
    "\n",
    "OH_Alley = pd.get_dummies(X_train_mod10['Alley'], prefix = 'Alley', drop_first=True)\n",
    "OH_LandContour = pd.get_dummies(X_train_mod10['LandContour'], prefix = 'LandContour', drop_first=True)\n",
    "OH_BldgType = pd.get_dummies(X_train_mod10['BldgType'], prefix = 'BldgType', drop_first=True)\n",
    "OH_HouseStyle = pd.get_dummies(X_train_mod10['HouseStyle'], prefix = 'HouseStyle', drop_first=True)\n",
    "OH_RoofStyle = pd.get_dummies(X_train_mod10['RoofStyle'], prefix = 'RoofStyle', drop_first=True)\n",
    "\n",
    "X_train_mod11 = pd.concat([X_train_mod10, \n",
    "                           OH_Alley, \n",
    "                           OH_LandContour, \n",
    "                           OH_BldgType, \n",
    "                           OH_HouseStyle, \n",
    "                           OH_RoofStyle], axis=1)\n",
    "\n",
    "X_train_mod12 = X_train_mod11.drop(['Alley', \n",
    "                                    'LandContour', \n",
    "                                    'BldgType', \n",
    "                                    'HouseStyle', \n",
    "                                    'RoofStyle'], 1)\n",
    "\n",
    "\n",
    "OH_Alley = pd.get_dummies(X_test_mod10['Alley'], prefix = 'Alley', drop_first=True)\n",
    "OH_LandContour = pd.get_dummies(X_test_mod10['LandContour'], prefix = 'LandContour', drop_first=True)\n",
    "OH_BldgType = pd.get_dummies(X_test_mod10['BldgType'], prefix = 'BldgType', drop_first=True)\n",
    "OH_HouseStyle = pd.get_dummies(X_test_mod10['HouseStyle'], prefix = 'HouseStyle', drop_first=True)\n",
    "OH_RoofStyle = pd.get_dummies(X_test_mod10['RoofStyle'], prefix = 'RoofStyle', drop_first=True)\n",
    "\n",
    "X_test_mod11 = pd.concat([X_test_mod10, \n",
    "                           OH_Alley, \n",
    "                           OH_LandContour, \n",
    "                           OH_BldgType, \n",
    "                           OH_HouseStyle, \n",
    "                           OH_RoofStyle], axis=1)\n",
    "\n",
    "X_test_mod12 = X_test_mod11.drop(['Alley', \n",
    "                                    'LandContour', \n",
    "                                    'BldgType', \n",
    "                                    'HouseStyle', \n",
    "                                    'RoofStyle'], 1)"
   ]
  },
  {
   "cell_type": "code",
   "execution_count": 690,
   "metadata": {},
   "outputs": [
    {
     "data": {
      "text/plain": [
       "[]"
      ]
     },
     "execution_count": 690,
     "metadata": {},
     "output_type": "execute_result"
    }
   ],
   "source": [
    "# check absence of na in the train set\n",
    "[var for var in X_train_mod11.columns if X_train_mod11[var].isnull().sum() > 0]"
   ]
  },
  {
   "cell_type": "code",
   "execution_count": 691,
   "metadata": {},
   "outputs": [
    {
     "data": {
      "text/plain": [
       "[]"
      ]
     },
     "execution_count": 691,
     "metadata": {},
     "output_type": "execute_result"
    }
   ],
   "source": [
    "# check absence of na in the test set\n",
    "[var for var in X_test_mod11.columns if X_test_mod11[var].isnull().sum() > 0]"
   ]
  },
  {
   "cell_type": "code",
   "execution_count": null,
   "metadata": {},
   "outputs": [],
   "source": []
  },
  {
   "cell_type": "markdown",
   "metadata": {},
   "source": [
    "### 12. Feature Scaling (5 marks)\n",
    "Now we know all variables in our two datasets (i.e. the training and test sets) are numerical, the final step in this exercise is to apply scaling by making sure the minimum value in each variable is 0 and the maximum value is 1. For this step, you can use MinMaxScaler() from sci-kit learn. Make sure you apply it correctly by transforming the test set based on the training set. "
   ]
  },
  {
   "cell_type": "code",
   "execution_count": 692,
   "metadata": {},
   "outputs": [
    {
     "name": "stdout",
     "output_type": "stream",
     "text": [
      "0.2687641298123963\n",
      "0.2659993727604024\n",
      "0.019396534169591084\n",
      "0.018731576932364435\n"
     ]
    }
   ],
   "source": [
    "## Apply scaling here\n",
    "# Make sure you do it correctly\n",
    "\n",
    "scaler = MinMaxScaler().fit(X_train_mod12)\n",
    "X_test_final = scaler.transform(X_test_mod12)\n",
    "X_train_final = scaler.transform(X_train_mod12)\n",
    "\n",
    "print(X_train_final.mean().mean())\n",
    "print(X_test_final.mean().mean())\n",
    "print(X_train_final.mean().mean() - 0.2493675956428052)\n",
    "print(X_test_final.mean().mean() - 0.24726779582803798)\n"
   ]
  },
  {
   "cell_type": "code",
   "execution_count": 33,
   "metadata": {},
   "outputs": [
    {
     "name": "stdout",
     "output_type": "stream",
     "text": [
      "0.2493675956428052\n",
      "0.24726779582803798\n"
     ]
    }
   ],
   "source": [
    "print(X_train.mean().mean())\n",
    "print(X_test.mean().mean())"
   ]
  },
  {
   "cell_type": "markdown",
   "metadata": {
    "collapsed": true
   },
   "source": [
    "\n",
    "# Well done!"
   ]
  },
  {
   "cell_type": "code",
   "execution_count": null,
   "metadata": {},
   "outputs": [],
   "source": []
  }
 ],
 "metadata": {
  "kernelspec": {
   "display_name": "Python 3 (ipykernel)",
   "language": "python",
   "name": "python3"
  },
  "language_info": {
   "codemirror_mode": {
    "name": "ipython",
    "version": 3
   },
   "file_extension": ".py",
   "mimetype": "text/x-python",
   "name": "python",
   "nbconvert_exporter": "python",
   "pygments_lexer": "ipython3",
   "version": "3.9.12"
  },
  "toc": {
   "base_numbering": 1,
   "nav_menu": {},
   "number_sections": true,
   "sideBar": true,
   "skip_h1_title": false,
   "title_cell": "Table of Contents",
   "title_sidebar": "Contents",
   "toc_cell": false,
   "toc_position": {
    "height": "583px",
    "left": "0px",
    "right": "1324px",
    "top": "107px",
    "width": "212px"
   },
   "toc_section_display": "block",
   "toc_window_display": true
  }
 },
 "nbformat": 4,
 "nbformat_minor": 2
}
